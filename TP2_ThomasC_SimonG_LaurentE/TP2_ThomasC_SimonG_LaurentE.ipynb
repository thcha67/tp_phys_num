{
 "cells": [
  {
   "cell_type": "markdown",
   "metadata": {},
   "source": [
    "# TP2 : Reconstruction tomographique\n",
    "### Physique Numérique (PHY-3500)\n",
    "### Par: Simon Gauthier, Laurent Émond, Thomas Charland\n",
    "### Présenté à: Xavier Roy-Pomerleau\n",
    "### Remis le: 23 mars 2025"
   ]
  },
  {
   "cell_type": "markdown",
   "metadata": {},
   "source": [
    "## Mise en contexte"
   ]
  },
  {
   "cell_type": "markdown",
   "metadata": {},
   "source": [
    "L'arrivée de l'ordinateur a révolutionné la médecine moderne en permettant de développer des méthodes nécessitant sur une puissance de calcul élevée. La tomodensitométrie (TDM), qui permet d'estimer la distribution de la densité d'un objet à partir de plusieurs mesures d'atténuation [1], est l'une de ces méthodes. La tomodensitométrie est majoritairement tulisée pour l'analyse de zones non-visibles par d'autresd examens d'imagerie médicale [2], et permet d'obtenir des résultat de l'ordre du millimètre [1]\n",
    "\n",
    "Ce document résout le TP2 du cours de Physique Numérique (PHY-3500). "
   ]
  },
  {
   "cell_type": "code",
   "execution_count": 3,
   "metadata": {},
   "outputs": [],
   "source": [
    "#Importer toutes les libraries nécessaires pour la résolution du TP\n",
    "import numpy as np\n",
    "import matplotlib.pyplot as plt\n",
    "import math"
   ]
  },
  {
   "cell_type": "markdown",
   "metadata": {},
   "source": [
    "# Numéro 1"
   ]
  },
  {
   "cell_type": "markdown",
   "metadata": {},
   "source": [
    "En utilisant la base de donnée XCOM du NIST [3], nous obtenons un coefficient d'atténuation $\\mu = 2.059 \\cdot 10^{-1}$ cm^2/g pour un photon de 60KeV voyageant dans l'eau à 1.0 g/cm^3. "
   ]
  },
  {
   "cell_type": "code",
   "execution_count": null,
   "metadata": {},
   "outputs": [
    {
     "name": "stdout",
     "output_type": "stream",
     "text": [
      "La fraction du signal subsistant après 5cm est:  0.35718550868273846\n",
      "La fraction du signal subsistant après 20cm est:  0.016277035981531945\n"
     ]
    }
   ],
   "source": [
    "#Code pour résoudre le numéro 1\n",
    "def remaining_intensity(attenuation_coefs_of_media : list, distance_travelled_in_media : list):\n",
    "    sum_value = 0\n",
    "    for i in range(len(attenuation_coefs_of_media)):\n",
    "        sum_value += attenuation_coefs_of_media[i] * distance_travelled_in_media[i]\n",
    "    \n",
    "    remaining_intensity = 100 * math.e**(-sum_value)\n",
    "    return remaining_intensity / 100\n",
    "\n",
    "print(\"La fraction du signal subsistant après 5cm est: \", remaining_intensity([0.2059], [5]))\n",
    "print(\"La fraction du signal subsistant après 20cm est: \", remaining_intensity([0.2059], [20]))"
   ]
  },
  {
   "cell_type": "markdown",
   "metadata": {},
   "source": [
    "Après avoir traversé 5cm d'eau, la fraction du signal subsistante est de 35.72%. Après avoir traversé 20cm d'eau, la fraction du signal subsistante est de 1.62%. "
   ]
  },
  {
   "cell_type": "markdown",
   "metadata": {},
   "source": [
    "# Numéro 2"
   ]
  },
  {
   "cell_type": "code",
   "execution_count": null,
   "metadata": {},
   "outputs": [],
   "source": [
    "#Code pour résoudre le numéro 2\n"
   ]
  },
  {
   "cell_type": "markdown",
   "metadata": {},
   "source": [
    "# Numéro 3"
   ]
  },
  {
   "cell_type": "code",
   "execution_count": null,
   "metadata": {},
   "outputs": [],
   "source": [
    "#Code pour résoudre le numéro 3"
   ]
  },
  {
   "cell_type": "markdown",
   "metadata": {},
   "source": [
    "# Numéro 4"
   ]
  },
  {
   "cell_type": "code",
   "execution_count": null,
   "metadata": {},
   "outputs": [],
   "source": [
    "#Code pour résoudre le numéro 4"
   ]
  },
  {
   "cell_type": "markdown",
   "metadata": {},
   "source": [
    "# Numéro 5"
   ]
  },
  {
   "cell_type": "code",
   "execution_count": null,
   "metadata": {},
   "outputs": [],
   "source": [
    "#Code pour résoudre le numéro 5"
   ]
  },
  {
   "cell_type": "markdown",
   "metadata": {},
   "source": [
    "# Bibliographie"
   ]
  },
  {
   "cell_type": "markdown",
   "metadata": {},
   "source": [
    "[1] TP2 : Reconstruction tomographique, D. Matenine et P. Després, *PHY-3500– Physique num´erique (H25)*\n",
    "\n",
    "[2] Pourquoi réaliser une tomodentometrie, Information hospitalière, <https://www.informationhospitaliere.com/tomodensitometrie-deroulement-precautions-et-effets-secondaires#Pourquoi_realiser_une_tomodensitometrie%E2%80%89>\n",
    "\n",
    "[3] XCOM database, NIST, <https://physics.nist.gov/PhysRefData/Xcom/html/xcom1.html>\n",
    "\n",
    "[4]"
   ]
  }
 ],
 "metadata": {
  "kernelspec": {
   "display_name": "Python 3",
   "language": "python",
   "name": "python3"
  },
  "language_info": {
   "codemirror_mode": {
    "name": "ipython",
    "version": 3
   },
   "file_extension": ".py",
   "mimetype": "text/x-python",
   "name": "python",
   "nbconvert_exporter": "python",
   "pygments_lexer": "ipython3",
   "version": "3.12.9"
  }
 },
 "nbformat": 4,
 "nbformat_minor": 2
}
