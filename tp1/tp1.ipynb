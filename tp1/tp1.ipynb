{
 "cells": [
  {
   "cell_type": "code",
   "execution_count": 2,
   "metadata": {},
   "outputs": [],
   "source": [
    "import numpy as np\n",
    "import matplotlib.pyplot as plt\n",
    "import pandas as pd"
   ]
  },
  {
   "cell_type": "markdown",
   "metadata": {},
   "source": [
    "## Numéro 1"
   ]
  },
  {
   "cell_type": "markdown",
   "metadata": {},
   "source": [
    "The electronic density $n_e$ of a compound of $M$ elements is defined from its density $\\rho$ and its composition of atoms of atomic numbers $N_i$ present with massic fractions of $f_i$ such that:\n",
    "$$\n",
    "    n_e = \\rho\\sum_{n=1}^MN_if_i\n",
    "$$"
   ]
  },
  {
   "cell_type": "code",
   "execution_count": 4,
   "metadata": {},
   "outputs": [],
   "source": [
    "def electronic_density(density, composition):\n",
    "    \"\"\"\n",
    "    Calculate the electronic density of a compound.\n",
    "    Params:\n",
    "    density (float): The density of the compound in g/cm^3.\n",
    "    composition (dict): A dictionary with the elements' atomic number as keys and the fraction (on 1) by weight of that element as values.\n",
    "    Returns:\n",
    "    float: The electronic density of the compound in g/cm^3.\n",
    "    \"\"\"\n",
    "    electronic_density = 0\n",
    "    for element in composition:\n",
    "        electronic_density += element * composition[element]\n",
    "    electronic_density *= density\n",
    "    return electronic_density"
   ]
  },
  {
   "cell_type": "code",
   "execution_count": 5,
   "metadata": {},
   "outputs": [
    {
     "name": "stdout",
     "output_type": "stream",
     "text": [
      "The electronic density of liquid water is 7.22 g/cm^3.\n",
      "The electronic density of compact bone is 17.11 g/cm^3.\n"
     ]
    }
   ],
   "source": [
    "# from NIST for liquid water (https://physics.nist.gov/cgi-bin/Star/compos.pl?refer=ap&matno=276)\n",
    "liquid_water_density = 1\n",
    "liquid_water_composition = {1: 0.111894, 8: 0.888106}\n",
    "liquid_water_ne = electronic_density(liquid_water_density, liquid_water_composition)\n",
    "print(f\"The electronic density of liquid water is {liquid_water_ne:.2f} g/cm^3.\")\n",
    "\n",
    "# from NIST for compact bone (https://physics.nist.gov/cgi-bin/Star/compos.pl?refer=ap&matno=119)\n",
    "compact_bone_density = 1.85\n",
    "compact_bone_composition = {1: 0.063984, 6: 0.278000, 7: 0.027000, 8: 0.410016, 12: 0.002000, 15: 0.070000, 16: 0.002000, 20: 0.147000}\n",
    "compact_bone_ne = electronic_density(compact_bone_density, compact_bone_composition)\n",
    "print(f\"The electronic density of compact bone is {compact_bone_ne:.2f} g/cm^3.\")"
   ]
  },
  {
   "cell_type": "markdown",
   "metadata": {},
   "source": [
    "## Numéro 2"
   ]
  },
  {
   "cell_type": "markdown",
   "metadata": {},
   "source": [
    "The massic stopping power $S_{col, \\rho}$ is defined like:\n",
    "$$\n",
    "\\begin{aligned}\n",
    "    S_{col, \\rho} = \\frac{S_{col}}{\\rho} &= \\frac{2\\pi r_e^2m_ec^2n_eZ^2}{\\rho\\beta^2}\\left[\\ln\\left(\\frac{2m_ec^2(\\gamma^2-1)T_e^{max}}{I^2}\\right)-2\\beta^2-\\delta-2\\frac{C}{Z}+2ZL_1+2Z^2L_2\\right]\\\\\n",
    "    &= \\frac{2\\pi r_e^2m_ec^2n_eZ^2}{\\rho\\beta^2}\\left[\\ln\\left(\\frac{2m_ec^2\\beta^2\\left(\\frac{T}{m_pc^2}+1\\right)^2T_e^{max}}{I^2}\\right)-2\\beta^2-\\delta-2\\frac{C}{Z}+2ZL_1+2Z^2L_2\\right]\\\\\n",
    "\\text{where } T_e^{max} \\text{ is defined and simplified as:}\\\\\n",
    "    T_e^{max} &= \\frac{2m_ec^2(\\gamma^2-1)}{1+2\\gamma\\left(\\frac{m_e}{m_p}\\right)+\\left(\\frac{m_e}{m_p}\\right)^2} = \\frac{2m_ec^2\\beta^2\\left(\\frac{T}{m_pc^2}+1\\right)^2}{1+2\\left(\\frac{T}{m_pc^2}+1\\right)\\left(\\frac{m_e}{m_p}\\right)+\\left(\\frac{m_e}{m_p}\\right)^2}\n",
    "\\end{aligned}\n",
    "$$"
   ]
  },
  {
   "cell_type": "code",
   "execution_count": 3,
   "metadata": {},
   "outputs": [],
   "source": [
    "def massic_stopping_power(n_e, m_e, Z, beta, rho, T, I, m_p, delta, C, L1, L2):\n",
    "    \"\"\"\n",
    "    Calculate the massic stopping power of a material.\n",
    "    Params:\n",
    "    n_e (float): The electronic density of the material in g/cm^3.\n",
    "    m_e (float): The electron mass in g.\n",
    "    Z (float): The atomic number of the material.\n",
    "    beta (float): The velocity of the incident particle as a fraction of the speed of light.\n",
    "    rho (float): The density of the material in g/cm^3.\n",
    "    Returns:\n",
    "    float: The massic stopping power of the material in MeV cm^2/g.\n",
    "    \"\"\"\n",
    "    c = 3e10 # speed of light in cm/s \n",
    "    r_e = 2.8179e-13 # radius of the electron in cm\n",
    "    T_e_max = 2 * m_e * c**2 * beta**2*((T / (m_p * c**2)) + 1)**2 / (1 + 2 * (T / (m_p * c**2)) + 1 * (m_e / m_p) + (m_e / m_p)**2)\n",
    "    prefactor = (2 * np.pi * r_e**2 * m_e * c**2 * n_e * Z**2) / (rho * beta**2)\n",
    "    log_argument = (2 * m_e * c**2 * beta**2 * ((T / (m_p * c**2)) + 1)**2 * T_e_max) / I**2\n",
    "    logarithmic_term = np.log(log_argument) - 2 * beta**2 - delta - 2 * (C / Z) + 2 * Z * L1 + 2 * Z**2 * L2\n",
    "    return prefactor * logarithmic_term"
   ]
  },
  {
   "cell_type": "code",
   "execution_count": null,
   "metadata": {},
   "outputs": [],
   "source": [
    "liquid_water_Z "
   ]
  },
  {
   "cell_type": "markdown",
   "metadata": {},
   "source": [
    "## Numéro 3"
   ]
  },
  {
   "cell_type": "markdown",
   "metadata": {},
   "source": [
    "## Numéro 4"
   ]
  },
  {
   "cell_type": "markdown",
   "metadata": {},
   "source": [
    "Plus le pouvoir d'arrêt d'un matériel est grand, plus la portée de la particule sera faible dans le matériel. Il est donc logique et intuitif de dire que la portée suit une tendance inverse au pouvoir d'arrêt. \n",
    "\n",
    "Il est également possible de démontrer cela en utilisant les unités. Nous cherchons une portée (unités: cm, dimension: $L$) à partir du pouvoir d'arrêt (unités: MeV/cm, dimensions: $ML/T^2$) et de l'énergie (unités: MeV, dimensions: $ML^2/T^2$). Notre seul moyen d'obtenir la dimension adéquate pour la portée est de multiplier les dimensions de l'énergie par les dimensions de l'inverse du pouvoir d'arrêt : $ML^2/T^2 \\cdot (ML/T^2)^{-1} = L$.\n",
    "\n",
    "C'est exactement ce que nous retrouvons pour la formule de la portée CSDA: $R_{CSDA} = \\int_0^{T_i} \\frac{1}{S} dT$"
   ]
  },
  {
   "cell_type": "markdown",
   "metadata": {},
   "source": [
    "## Numéro 5"
   ]
  },
  {
   "cell_type": "markdown",
   "metadata": {},
   "source": [
    "## Numéro 6"
   ]
  },
  {
   "cell_type": "markdown",
   "metadata": {},
   "source": [
    "## Numéro 7"
   ]
  },
  {
   "cell_type": "markdown",
   "metadata": {},
   "source": [
    "## Numéro 8"
   ]
  },
  {
   "cell_type": "markdown",
   "metadata": {},
   "source": [
    "## Numéro 9"
   ]
  },
  {
   "cell_type": "markdown",
   "metadata": {},
   "source": [
    "## Numéro 10"
   ]
  },
  {
   "cell_type": "markdown",
   "metadata": {},
   "source": [
    "## Numéro 11"
   ]
  },
  {
   "cell_type": "markdown",
   "metadata": {},
   "source": [
    "## Numéro 12"
   ]
  },
  {
   "cell_type": "markdown",
   "metadata": {},
   "source": [
    "## Numéro 13"
   ]
  },
  {
   "cell_type": "markdown",
   "metadata": {},
   "source": [
    "## Numéro 14"
   ]
  },
  {
   "cell_type": "markdown",
   "metadata": {},
   "source": [
    "## Numéro 15"
   ]
  },
  {
   "cell_type": "markdown",
   "metadata": {},
   "source": [
    "## Numéro 16"
   ]
  },
  {
   "cell_type": "markdown",
   "metadata": {},
   "source": [
    "## Numéro 17"
   ]
  }
 ],
 "metadata": {
  "kernelspec": {
   "display_name": "Python 3",
   "language": "python",
   "name": "python3"
  },
  "language_info": {
   "codemirror_mode": {
    "name": "ipython",
    "version": 3
   },
   "file_extension": ".py",
   "mimetype": "text/x-python",
   "name": "python",
   "nbconvert_exporter": "python",
   "pygments_lexer": "ipython3",
   "version": "3.12.8"
  }
 },
 "nbformat": 4,
 "nbformat_minor": 2
}
