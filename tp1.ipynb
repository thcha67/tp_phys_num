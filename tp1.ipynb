{
 "cells": [
  {
   "cell_type": "markdown",
   "metadata": {},
   "source": [
    "## Numéro 1"
   ]
  },
  {
   "cell_type": "code",
   "execution_count": 4,
   "metadata": {},
   "outputs": [],
   "source": [
    "def electronic_density(density, composition):\n",
    "    \"\"\"\n",
    "    Calculate the electronic density of a compound.\n",
    "    Params:\n",
    "    density (float): The density of the compound in g/cm^3.\n",
    "    composition (dict): A dictionary with the elements' atomic number as keys and the fraction (on 1) by weight of that element as values.\n",
    "    Returns:\n",
    "    float: The electronic density of the compound in g/cm^3.\n",
    "    \"\"\"\n",
    "    electronic_density = 0\n",
    "    for element in composition:\n",
    "        electronic_density += element * composition[element]\n",
    "    electronic_density *= density\n",
    "    return electronic_density"
   ]
  },
  {
   "cell_type": "code",
   "execution_count": 5,
   "metadata": {},
   "outputs": [
    {
     "name": "stdout",
     "output_type": "stream",
     "text": [
      "The electronic density of liquid water is 7.22 g/cm^3.\n",
      "The electronic density of compact bone is 17.11 g/cm^3.\n"
     ]
    }
   ],
   "source": [
    "# from NIST for liquid water (https://physics.nist.gov/cgi-bin/Star/compos.pl?refer=ap&matno=276)\n",
    "liquid_water_density = 1\n",
    "liquid_water_composition = {1: 0.111894, 8: 0.888106}\n",
    "liquid_water_ne = electronic_density(liquid_water_density, liquid_water_composition)\n",
    "print(f\"The electronic density of liquid water is {liquid_water_ne:.2f} g/cm^3.\")\n",
    "\n",
    "# from NIST for compact bone (https://physics.nist.gov/cgi-bin/Star/compos.pl?refer=ap&matno=119)\n",
    "compact_bone_density = 1.85\n",
    "compact_bone_composition = {1: 0.063984, 6: 0.278000, 7: 0.027000, 8: 0.410016, 12: 0.002000, 15: 0.070000, 16: 0.002000, 20: 0.147000}\n",
    "compact_bone_ne = electronic_density(compact_bone_density, compact_bone_composition)\n",
    "print(f\"The electronic density of compact bone is {compact_bone_ne:.2f} g/cm^3.\")"
   ]
  },
  {
   "cell_type": "markdown",
   "metadata": {},
   "source": [
    "## Numéro 2"
   ]
  },
  {
   "cell_type": "markdown",
   "metadata": {},
   "source": [
    "## Numéro 3"
   ]
  },
  {
   "cell_type": "markdown",
   "metadata": {},
   "source": [
    "## Numéro 4"
   ]
  },
  {
   "cell_type": "markdown",
   "metadata": {},
   "source": [
    "## Numéro 5"
   ]
  },
  {
   "cell_type": "markdown",
   "metadata": {},
   "source": [
    "## Numéro 6"
   ]
  },
  {
   "cell_type": "markdown",
   "metadata": {},
   "source": [
    "## Numéro 7"
   ]
  },
  {
   "cell_type": "markdown",
   "metadata": {},
   "source": [
    "## Numéro 8"
   ]
  },
  {
   "cell_type": "markdown",
   "metadata": {},
   "source": [
    "## Numéro 9"
   ]
  },
  {
   "cell_type": "markdown",
   "metadata": {},
   "source": [
    "## Numéro 10"
   ]
  },
  {
   "cell_type": "markdown",
   "metadata": {},
   "source": [
    "## Numéro 11"
   ]
  },
  {
   "cell_type": "markdown",
   "metadata": {},
   "source": [
    "## Numéro 12"
   ]
  },
  {
   "cell_type": "markdown",
   "metadata": {},
   "source": [
    "## Numéro 13"
   ]
  },
  {
   "cell_type": "markdown",
   "metadata": {},
   "source": [
    "## Numéro 14"
   ]
  },
  {
   "cell_type": "markdown",
   "metadata": {},
   "source": [
    "## Numéro 15"
   ]
  },
  {
   "cell_type": "markdown",
   "metadata": {},
   "source": [
    "## Numéro 16"
   ]
  },
  {
   "cell_type": "markdown",
   "metadata": {},
   "source": [
    "## Numéro 17"
   ]
  }
 ],
 "metadata": {
  "kernelspec": {
   "display_name": "Python 3",
   "language": "python",
   "name": "python3"
  },
  "language_info": {
   "codemirror_mode": {
    "name": "ipython",
    "version": 3
   },
   "file_extension": ".py",
   "mimetype": "text/x-python",
   "name": "python",
   "nbconvert_exporter": "python",
   "pygments_lexer": "ipython3",
   "version": "3.12.8"
  }
 },
 "nbformat": 4,
 "nbformat_minor": 2
}
