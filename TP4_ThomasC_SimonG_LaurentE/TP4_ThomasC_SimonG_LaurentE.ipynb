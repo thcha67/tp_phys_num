{
 "cells": [
  {
   "cell_type": "markdown",
   "metadata": {},
   "source": [
    "# TP4\n",
    "### Physique Numérique (PHY-3500)\n",
    "### Par: Simon Gauthier, Laurent Émond, Thomas Charland\n",
    "### Présenté à: Xavier Roy-Pomerleau et Antoine Allard\n",
    "### Remis le: 14 avril 2025"
   ]
  },
  {
   "cell_type": "code",
   "execution_count": null,
   "metadata": {},
   "outputs": [],
   "source": [
    "import numpy as np\n",
    "import matplotlib.pyplot as plt\n",
    "import networkx as nx"
   ]
  },
  {
   "cell_type": "markdown",
   "metadata": {},
   "source": [
    "### TP4.1 Intégration numérique de la dynamique épidémiologique SIS (50 points)\n",
    "\n",
    "#### a)\n",
    "\n",
    "On peut simplement solutionner analytiquement l'équation quadratique suivante:\n",
    "$$\n",
    "0=(R_0-1)i-R_0i^2\n",
    "$$\n",
    "On trouve donc que les solutions, ou états stationnaires, sont:\n",
    "$$\n",
    "i^*_1=0\\qquad\\qquad i^*_2=1-\\frac{1}{R_0}\n",
    "$$\n",
    "Puisque $i^*_{1,2}$ doit être dans l'intervalle [0,1], cela impose les valeurs $R_0\\ge1$."
   ]
  },
  {
   "cell_type": "markdown",
   "metadata": {},
   "source": [
    "#### b)\n",
    "\n",
    "En utilisant $\\frac{di}{d\\tau}=i'$, on peut placer dans la forme de Bernouilli, soit $i'+p(\\tau)i=q(\\tau)i^n$:\n",
    "$$\n",
    "    i'+(1-R_0)i=(-R_0)i^2\n",
    "$$\n",
    "où $p(\\tau)=1-R_0$, $q(\\tau)=(-R_0)$ et $n=2$.\n",
    "\n",
    "On peut alors diviser par $i^{-n}=i^{-2}$:\n",
    "$$\n",
    "    i^{-2}i'+(1-R_0)i^{-1}=-R_0\n",
    "$$\n",
    "On utilise ensuite la substitution $v=i^{1-n}=i^{-1}$. \n",
    "$$\n",
    "    v^2i'+(1-R_0)v=-R_0\n",
    "$$\n",
    "On doit également trouver $i'$ en fonction de $v$. On peut dériver implicitement notre substitution et isoler $i'$, soit $i'=-i^2v'=-\\frac{1}{v^2}v'$. On remplace:\n",
    "$$\n",
    "-v'+(1-R_0)v=-R_0\n",
    "$$\n",
    "On divise par $-1$:\n",
    "$$\n",
    "v'+(R_0-1)v=R_0\n",
    "$$\n",
    "Cette EDO en $v$ est linéaire, on peut donc la résoudre à l'aide de la méthode du facteur d'intégration $\\mu(\\tau)$. On multiplie donc l'équation par $\\mu(\\tau)$:\n",
    "$$\n",
    "v'\\mu(\\tau)+(R_0-1)v\\mu(\\tau)=R_0\\mu(\\tau)\n",
    "$$\n",
    "On assume pour l'instant la condition $\\mu(\\tau)(R_0-1)=\\mu'(\\tau)$. On a donc:\n",
    "$$\n",
    "v'\\mu(\\tau)+v\\mu'(\\tau)=R_0\\mu(\\tau)\n",
    "$$\n",
    "On remarque que le côté gauche est simplement la dérivée du produit $v\\mu(\\tau)$. On a donc:\n",
    "$$\n",
    "(v\\mu(\\tau))'=R_0\\mu(\\tau)\n",
    "$$\n",
    "On intègre alors des deux côtés par rapport à $\\tau$ et on obtient:\n",
    "$$\n",
    "v\\mu(\\tau)+C=\\int R_0\\mu(\\tau) d\\tau\n",
    "$$\n",
    "où $C$ est notre constante d'intégration. On isole $v$:\n",
    "$$\n",
    "v=\\frac{\\int R_0\\mu(\\tau) d\\tau - C}{\\mu(\\tau)}\n",
    "$$\n",
    "Maintenant, sachant que $\\frac{\\mu'(\\tau)}{\\mu(\\tau)}=R_0-1$, on trouve que $\\mu(\\tau)=e^{\\int (R_0-1) d\\tau + k}=Ke^{(R_0-1)\\tau}$ où $K=e^k$ est une constante d'intégration. On a donc:\n",
    "$$\n",
    "v=\\frac{K\\int R_0e^{(R_0-1)\\tau} d\\tau - \\frac{C}{k}}{Ke^{(R_0-1)\\tau}}\n",
    "$$\n",
    "On définit $c_1=\\frac{c}{K}$ pour avoir:\n",
    "$$\n",
    "\\begin{align*}\n",
    "v&=\\frac{\\int R_0e^{(R_0-1)\\tau} d\\tau - c_1}{e^{(R_0-1)\\tau}}\\\\\n",
    "&=\\frac{\\frac{R_0}{R_0-1}e^{(R_0-1)\\tau}+c_2-c_1}{e^{(R_0-1)\\tau}}\\\\\n",
    "&=\\frac{\\frac{R_0}{R_0-1}e^{(R_0-1)\\tau}+C}{e^{(R_0-1)\\tau}}\n",
    "\\end{align*}\n",
    "$$\n",
    "où $C=c_2-c_1$ est une constante. On peut alors exprimer $v$ en fonction de $i$ et isoler $i$:\n",
    "$$\n",
    "i=\\frac{1}{v}=\\frac{e^{(R_0-1)\\tau}}{\\frac{R_0}{R_0-1}e^{(R_0-1)\\tau}+C}\n",
    "$$\n",
    "On peut ensuite utiliser une condition initiale $i(0)=i_0$ pour obtenir:\n",
    "$$\n",
    "i_0=\\frac{e^{(R_0-1)0}}{\\frac{R_0}{R_0-1}e^{(R_0-1)0}+C}=\\frac{1}{\\frac{R_0}{R_0-1}+C}\n",
    "$$\n",
    "On a donc:\n",
    "$$\n",
    "C= \\frac{R_0-1-R_0i_0}{i_0(R_0-1)}\n",
    "$$\n",
    "On a donc:\n",
    "$$\n",
    "i(\\tau)=\\frac{e^{(R_0-1)\\tau}}{\\frac{R_0}{R_0-1}e^{(R_0-1)\\tau}+\\frac{R_0-1-R_0i_0}{i_0(R_0-1)}}=\\frac{i_0(R_0-1)e^{(R_0-1)\\tau}}{i_0R_0e^{(R_0-1)\\tau}+R_0-1-i_0R_0}\n",
    "$$\n",
    "pour $\\tau>0$. Cela impose la branche positive de la solution particulière, soit $i>0$.\n",
    "\n",
    "On peut tracer cette solution pour une condition initiale $i_0=0.5$ et une valeur $R_0=1.5$:"
   ]
  },
  {
   "cell_type": "code",
   "execution_count": null,
   "metadata": {},
   "outputs": [],
   "source": [
    "def particular_sol(t, R0, i0):\n",
    "    return (i0*(R0-1)*np.exp((R0-1)*t))/(i0*R0*np.exp((R0-1)*t)+R0-1-i0*R0)\n",
    "\n",
    "t = np.linspace(0, 10, 1000)\n",
    "R0 = 1.5 # nombre de personnes infectées par une personne infectée\n",
    "i0 = 0.5 # proportion d'infectés au temps t=0\n",
    "\n",
    "plt.plot(t, particular_sol(t, R0, i0))\n",
    "plt.title(fr\"Solution particulière pour $R_0={R0}$ et $i_0={i0}$\")\n",
    "plt.xlabel(r\"Temps sans dimension $\\tau$\")\n",
    "plt.ylabel(r\"Proportion d'infectés\")\n",
    "plt.grid()\n",
    "plt.show()"
   ]
  },
  {
   "cell_type": "code",
   "execution_count": null,
   "metadata": {},
   "outputs": [],
   "source": []
  },
  {
   "cell_type": "markdown",
   "metadata": {},
   "source": [
    "#### c)\n"
   ]
  },
  {
   "cell_type": "code",
   "execution_count": null,
   "metadata": {},
   "outputs": [],
   "source": []
  },
  {
   "cell_type": "markdown",
   "metadata": {},
   "source": [
    "#### d)\n"
   ]
  },
  {
   "cell_type": "code",
   "execution_count": null,
   "metadata": {},
   "outputs": [],
   "source": []
  },
  {
   "cell_type": "markdown",
   "metadata": {},
   "source": [
    "#### e)\n"
   ]
  },
  {
   "cell_type": "code",
   "execution_count": null,
   "metadata": {},
   "outputs": [],
   "source": []
  },
  {
   "cell_type": "markdown",
   "metadata": {},
   "source": [
    "### TP4.2 Simulation Monte-Carlo de la dynamique SIS (50 points)\n",
    "\n",
    "#### a)\n"
   ]
  },
  {
   "cell_type": "code",
   "execution_count": null,
   "metadata": {},
   "outputs": [],
   "source": []
  },
  {
   "cell_type": "markdown",
   "metadata": {},
   "source": [
    "#### b)\n"
   ]
  },
  {
   "cell_type": "code",
   "execution_count": null,
   "metadata": {},
   "outputs": [],
   "source": []
  },
  {
   "cell_type": "markdown",
   "metadata": {},
   "source": [
    "#### c)\n"
   ]
  },
  {
   "cell_type": "code",
   "execution_count": null,
   "metadata": {},
   "outputs": [],
   "source": []
  },
  {
   "cell_type": "markdown",
   "metadata": {},
   "source": [
    "#### d)"
   ]
  },
  {
   "cell_type": "code",
   "execution_count": null,
   "metadata": {},
   "outputs": [],
   "source": []
  }
 ],
 "metadata": {
  "kernelspec": {
   "display_name": "Python 3",
   "language": "python",
   "name": "python3"
  },
  "language_info": {
   "codemirror_mode": {
    "name": "ipython",
    "version": 3
   },
   "file_extension": ".py",
   "mimetype": "text/x-python",
   "name": "python",
   "nbconvert_exporter": "python",
   "pygments_lexer": "ipython3",
   "version": "3.12.9"
  }
 },
 "nbformat": 4,
 "nbformat_minor": 2
}
