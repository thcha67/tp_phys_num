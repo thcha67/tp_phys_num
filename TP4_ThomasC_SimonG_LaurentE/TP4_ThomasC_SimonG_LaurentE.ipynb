{
 "cells": [
  {
   "cell_type": "markdown",
   "metadata": {},
   "source": [
    "# TP4\n",
    "### Physique Numérique (PHY-3500)\n",
    "### Par: Simon Gauthier, Laurent Émond, Thomas Charland\n",
    "### Présenté à: Xavier Roy-Pomerleau et Antoine Allard\n",
    "### Remis le: 14 avril 2025"
   ]
  },
  {
   "cell_type": "code",
   "execution_count": null,
   "metadata": {},
   "outputs": [],
   "source": [
    "import numpy as np\n",
    "import matplotlib.pyplot as plt\n",
    "import networkx as nx"
   ]
  },
  {
   "cell_type": "markdown",
   "metadata": {},
   "source": [
    "### TP4.1 Intégration numérique de la dynamique épidémiologique SIS (50 points)\n",
    "\n",
    "#### a)\n",
    "\n",
    "On peut simplement solutionner analytiquement l'équation quadratique suivante:\n",
    "$$\n",
    "0=(R_0-1)i-R_0i^2\n",
    "$$\n",
    "On trouve donc que les solutions, ou états stationnaires, sont:\n",
    "$$\n",
    "i^*_1=0\\qquad\\qquad i^*_2=1-\\frac{1}{R_0}\n",
    "$$\n",
    "Puisque $i^*_{1,2}$ doit être dans l'intervalle [0,1], cela impose les valeurs $R_0\\ge1$."
   ]
  },
  {
   "cell_type": "markdown",
   "metadata": {},
   "source": [
    "#### b)\n",
    "\n",
    "En utilisant $\\frac{di}{d\\tau}=i'$, on peut placer dans la forme de Bernouilli, soit $i'+p(\\tau)i=q(\\tau)i^n$:\n",
    "$$\n",
    "    i'+(1-R_0)i=(-R_0)i^2\n",
    "$$\n",
    "où $p(\\tau)=1-R_0$, $q(\\tau)=(-R_0)$ et $n=2$.\n",
    "\n",
    "On peut alors diviser par $i^{-n}=i^{-2}$:\n",
    "$$\n",
    "    i^{-2}i'+(1-R_0)i^{-1}=-R_0\n",
    "$$\n",
    "On utilise ensuite la substitution $v=i^{1-n}=i^{-1}$. \n",
    "$$\n",
    "    v^2i'+(1-R_0)v=-R_0\n",
    "$$\n",
    "On doit également trouver $i'$ en fonction de $v$. On peut dériver implicitement notre substitution et isoler $i'$, soit $i'=-i^2v'=-\\frac{1}{v^2}v'$. On remplace:\n",
    "$$\n",
    "-v'+(1-R_0)v=-R_0\n",
    "$$\n",
    "On divise par $-1$:\n",
    "$$\n",
    "v'+(R_0-1)v=R_0\n",
    "$$\n",
    "Cette EDO en $v$ est linéaire, on peut donc la résoudre à l'aide de la méthode du facteur d'intégration $\\mu(\\tau)$. On multiplie donc l'équation par $\\mu(\\tau)$:\n",
    "$$\n",
    "v'\\mu(\\tau)+(R_0-1)v\\mu(\\tau)=R_0\\mu(\\tau)\n",
    "$$\n",
    "On assume pour l'instant la condition $\\mu(\\tau)(R_0-1)=\\mu'(\\tau)$. On a donc:\n",
    "$$\n",
    "v'\\mu(\\tau)+v\\mu'(\\tau)=R_0\\mu(\\tau)\n",
    "$$\n",
    "On remarque que le côté gauche est simplement la dérivée du produit $v\\mu(\\tau)$. On a donc:\n",
    "$$\n",
    "(v\\mu(\\tau))'=R_0\\mu(\\tau)\n",
    "$$\n",
    "On intègre alors des deux côtés par rapport à $\\tau$ et on obtient:\n",
    "$$\n",
    "v\\mu(\\tau)+C=\\int R_0\\mu(\\tau) d\\tau\n",
    "$$\n",
    "où $C$ est notre constante d'intégration. On isole $v$:\n",
    "$$\n",
    "v=\\frac{\\int R_0\\mu(\\tau) d\\tau - C}{\\mu(\\tau)}\n",
    "$$\n",
    "Maintenant, sachant que $\\frac{\\mu'(\\tau)}{\\mu(\\tau)}=R_0-1$, on trouve que $\\mu(\\tau)=e^{\\int (R_0-1) d\\tau + k}=Ke^{(R_0-1)\\tau}$ où $K=e^k$ est une constante d'intégration. On a donc:\n",
    "$$\n",
    "v=\\frac{K\\int R_0e^{(R_0-1)\\tau} d\\tau - \\frac{C}{k}}{Ke^{(R_0-1)\\tau}}\n",
    "$$\n",
    "On définit $c_1=\\frac{c}{K}$ pour avoir:\n",
    "$$\n",
    "\\begin{align*}\n",
    "v&=\\frac{\\int R_0e^{(R_0-1)\\tau} d\\tau - c_1}{e^{(R_0-1)\\tau}}\\\\\n",
    "&=\\frac{\\frac{R_0}{R_0-1}e^{(R_0-1)\\tau}+c_2-c_1}{e^{(R_0-1)\\tau}}\\\\\n",
    "&=\\frac{\\frac{R_0}{R_0-1}e^{(R_0-1)\\tau}+C}{e^{(R_0-1)\\tau}}\n",
    "\\end{align*}\n",
    "$$\n",
    "où $C=c_2-c_1$ est une constante. On peut alors exprimer $v$ en fonction de $i$ et isoler $i$:\n",
    "$$\n",
    "i=\\frac{1}{v}=\\frac{e^{(R_0-1)\\tau}}{\\frac{R_0}{R_0-1}e^{(R_0-1)\\tau}+C}\n",
    "$$\n",
    "On peut ensuite utiliser une condition initiale $i(0)=i_0$ pour obtenir:\n",
    "$$\n",
    "i_0=\\frac{e^{(R_0-1)0}}{\\frac{R_0}{R_0-1}e^{(R_0-1)0}+C}=\\frac{1}{\\frac{R_0}{R_0-1}+C}\n",
    "$$\n",
    "On a donc:\n",
    "$$\n",
    "C= \\frac{R_0-1-R_0i_0}{i_0(R_0-1)}\n",
    "$$\n",
    "On a donc:\n",
    "$$\n",
    "i(\\tau)=\\frac{e^{(R_0-1)\\tau}}{\\frac{R_0}{R_0-1}e^{(R_0-1)\\tau}+\\frac{R_0-1-R_0i_0}{i_0(R_0-1)}}=\\frac{i_0(R_0-1)e^{(R_0-1)\\tau}}{i_0R_0e^{(R_0-1)\\tau}+R_0-1-i_0R_0}\n",
    "$$\n",
    "pour $\\tau>0$. Cela impose la branche positive de la solution particulière, soit $i>0$.\n",
    "\n",
    "On peut tracer cette solution pour une condition initiale $i_0=0.5$ et une valeur $R_0=1.5$:"
   ]
  },
  {
   "cell_type": "code",
   "execution_count": null,
   "metadata": {},
   "outputs": [],
   "source": [
    "def analytical(times, R0, i0):\n",
    "    \"\"\" Solution particulière analytique du modèle SIR.\"\"\"\n",
    "    return (i0*(R0-1)*np.exp((R0-1)*times))/(i0*R0*np.exp((R0-1)*times)+R0-1-i0*R0)\n",
    "\n",
    "\n",
    "R0 = 4 # nombre de personnes infectées par une personne infectée\n",
    "i0 = 0.1 # proportion d'infectés au temps t=0\n",
    "\n",
    "times = np.linspace(0, 4, 1000)\n",
    "\n",
    "plt.plot(times, analytical(times, R0, i0))\n",
    "plt.title(fr\"Solution particulière analytique pour $R_0={R0}$ et $i_0={i0}$\")\n",
    "plt.xlabel(r\"Temps sans dimension $\\tau$\")\n",
    "plt.ylabel(r\"Proportion d'infectés\")\n",
    "plt.grid()\n",
    "plt.show()"
   ]
  },
  {
   "cell_type": "markdown",
   "metadata": {},
   "source": [
    "#### c)\n"
   ]
  },
  {
   "cell_type": "code",
   "execution_count": null,
   "metadata": {},
   "outputs": [],
   "source": [
    "def infection_rate(i, R0):\n",
    "    return (R0-1)*i-R0*i**2\n",
    "\n",
    "h = 0.5\n",
    "\n",
    "def euler(T, h, R0, i0):\n",
    "    \"\"\" Méthode d'Euler pour la résolution de l'ODE\"\"\"\n",
    "    # times = np.linspace(start, end, int((end-start)/h)+1)\n",
    "    times = h*np.arange(0, T+1)\n",
    "    i = np.zeros_like(times)\n",
    "    i[0] = i0\n",
    "    for j in range(1, len(times)):\n",
    "        i[j] = i[j-1] + h*infection_rate(i[j-1], R0)\n",
    "    return times, i\n",
    "\n",
    "def rk2(T, h, R0, i0):\n",
    "    \"\"\" Méthode de Runge-Kutta d'ordre 2 pour la résolution de l'ODE\"\"\"\n",
    "    # times = np.linspace(start, end, int((end-start)/h)+1)\n",
    "    times = h*np.arange(0, T+1)\n",
    "    i = np.zeros_like(times)\n",
    "    i[0] = i0\n",
    "    for j in range(1, len(times)):\n",
    "        k1 = h*infection_rate(i[j-1], R0)\n",
    "        k2 = h*infection_rate(i[j-1] + 0.5*k1, R0)\n",
    "        i[j] = i[j-1] + k2\n",
    "    return times, i\n",
    "\n",
    "def rk4(T, h, R0, i0):\n",
    "    \"\"\" Méthode de Runge-Kutta d'ordre 4 pour la résolution de l'ODE\"\"\"\n",
    "    # times = np.linspace(start, end, int((end-start)/h)+1)\n",
    "    times = h*np.arange(0, T+1)\n",
    "    i = np.zeros_like(times)\n",
    "    i[0] = i0\n",
    "    for j in range(1, len(times)):\n",
    "        k1 = h*infection_rate(i[j-1], R0)\n",
    "        k2 = h*infection_rate(i[j-1] + 0.5*k1, R0)\n",
    "        k3 = h*infection_rate(i[j-1] + 0.5*k2, R0)\n",
    "        k4 = h*infection_rate(i[j-1] + k3, R0)\n",
    "        i[j] = i[j-1] + (k1 + 2*k2 + 2*k3 + k4)/6\n",
    "    return times, i\n",
    "\n",
    "# times, i_euler = euler(start, end, h, R0, i0)\n",
    "# _, i_rk2 = rk2(start, end, h, R0, i0)\n",
    "# _, i_rk4 = rk4(start, end, h, R0, i0)\n",
    "\n",
    "\n",
    "# continuous_times = np.linspace(start, end, int((end-start)/1e-5)+1) # pas de temps très fin pour la solution analytique\n",
    "# i_analytical = analytical(continuous_times, R0, i0)\n",
    "\n",
    "\n",
    "\n",
    "# plt.plot(continuous_times, i_analytical, label=\"Solution analytique\")\n",
    "# plt.plot(times, i_euler, label=fr\"Euler\")\n",
    "# plt.plot(times, i_rk2, label=fr\"Runge-Kutta 2\")\n",
    "# plt.plot(times, i_rk4, label=fr\"Runge-Kutta 4\")\n",
    "# plt.title(fr\"Solution numérique et analytique pour $R_0={R0}$, $i_0={i0}$ et $h=${h}\")\n",
    "# plt.xlabel(r\"Temps sans dimension $\\tau$\")\n",
    "# plt.ylabel(r\"Proportion d'infectés\")\n",
    "# plt.grid()\n",
    "# plt.legend()\n",
    "# plt.show()\n"
   ]
  },
  {
   "cell_type": "markdown",
   "metadata": {},
   "source": [
    "#### d)\n"
   ]
  },
  {
   "cell_type": "code",
   "execution_count": null,
   "metadata": {},
   "outputs": [],
   "source": [
    "R0i0_pairs = [(1.5, 0.1), (1.5, 0.9), (2, 0.1), (2, 0.9), (3, 0.1), (3, 0.9)]\n",
    "deltas = [1e-6, 1e-7, 1e-8, 1e-9]\n",
    "\n",
    "\n",
    "def error(f, T, h, R0, i0):\n",
    "    times, i = f(T, h, R0, i0)\n",
    "    i_analytical = analytical(times, R0, i0)\n",
    "\n",
    "    error = np.sqrt(1/(len(i)+1)*np.sum((i-i_analytical)**2))\n",
    "    return error\n",
    "\n",
    "def golden_ratio_method(f, h1, h4, T, R0, i0, delta, max_iter=100):\n",
    "    z = (1 + np.sqrt(5)) / 2 # nombre d'or\n",
    "    h2 = h4 - (h4-h1)/z\n",
    "    h3 = h1 + (h4-h1)/z\n",
    "\n",
    "\n",
    "    for _ in range(max_iter):\n",
    "\n",
    "        error_h2 = error(f, T, h2, R0, i0)\n",
    "        print(delta, error_h2)\n",
    "        if 0.99*delta < error_h2 < 1.01*delta:\n",
    "            return h2\n",
    "\n",
    "        error_h3 = error(f, T, h3, R0, i0)\n",
    "\n",
    "        if error_h2 < error_h3:\n",
    "            h4, h3 = h3, h2\n",
    "            h2 = h4 - (h4-h1)/z\n",
    "        else:\n",
    "            h2, h1 = h3, h2\n",
    "            h3 = h1 + (h4-h1)/z\n",
    "    raise ValueError(\"La méthode n'a pas convergé dans le nombre d'itérations spécifié.\")"
   ]
  },
  {
   "cell_type": "markdown",
   "metadata": {},
   "source": [
    "Afin de déterminer les bornes pour les valeurs de départ de $h$, il est possible de calculer l'erreur pour quelques valeurs à l'aide d'une vecteur dispersé logarithmiquement entre $h=0.1$ et $h=10^{-5}$. On calcule ainsi seulement 10 valeurs et il serait possible d'interpoler des valeurs à partir de cette courbe. On trace ainsi:"
   ]
  },
  {
   "cell_type": "code",
   "execution_count": null,
   "metadata": {},
   "outputs": [],
   "source": [
    "log_h_space_euler = np.logspace(-4, -1, 10)\n",
    "log_h_space_rk2 = np.logspace(-2, 0, 10)\n",
    "log_h_space_rk4 = np.logspace(-1, 0.5, 10)\n",
    "\n",
    "errors_euler = np.array([error(euler, T, h, R0, i0) for h in log_h_space_euler]) # erreur pour chacune des valeurs de T\n",
    "errors_rk2 = np.array([error(rk2, T, h, R0, i0) for h in log_h_space_rk2]) # erreur pour chacune des valeurs de T\n",
    "errors_rk4 = np.array([error(rk4, T, h, R0, i0) for h in log_h_space_rk4]) # erreur pour chacune des valeurs de T\n",
    "\n",
    "\n",
    "T = 3\n",
    "\n",
    "plt.plot(log_h_space_euler, errors_euler, label=\"Euler\")\n",
    "plt.plot(log_h_space_rk2, errors_rk2, label=\"RK2\")\n",
    "plt.plot(log_h_space_rk4, errors_rk4, label=\"RK4\")\n",
    "plt.xscale(\"log\")\n",
    "plt.yscale(\"log\")\n",
    "plt.xlabel(r\"Pas de temps $h$\")\n",
    "plt.ylabel(r\"Erreur $\\epsilon$\")\n",
    "plt.legend()\n",
    "plt.show()"
   ]
  },
  {
   "cell_type": "markdown",
   "metadata": {},
   "source": [
    "On remarque qu'en utilisant des axes log-log, les courbes sont linéaires (excepté RK4 qui atteint la précision machine à partir de h=0.001). Il sera donc facile de trouver les valeurs de départ pour $h$. En effet, on peut faire une interpolation linéaire et choisir un petit intervalle autour de la valeur de $\\epsilon$ désirée, disons entre $0.5\\hat\\epsilon$ et $1.5\\hat\\epsilon$ où $\\hat\\epsilon$ est la valeur interpolée à partir des quelques points d'erreurs calculés précemment. Il est important de faire l'interpolation en log et de remettre en linéaire les bornes de $h$ trouvées avant de la passer à la méthode du ratio doré:"
   ]
  },
  {
   "cell_type": "code",
   "execution_count": null,
   "metadata": {},
   "outputs": [],
   "source": [
    "def estimate_h1_h4(method, lower_h_exp, higher_h_exp, T, R0, i0, delta):\n",
    "    log_h_space = np.logspace(lower_h_exp, higher_h_exp, 10)\n",
    "    errors = np.array([error(method, T, h, R0, i0) for h in log_h_space])\n",
    "\n",
    "    h1 = np.interp(10**(0.5*delta), 10**errors, 10**log_h_space)\n",
    "    h4 = np.interp(10**(1.5*delta), 10**errors, 10**log_h_space)\n",
    "    return np.log10(h1), np.log10(h4)"
   ]
  },
  {
   "cell_type": "markdown",
   "metadata": {},
   "source": [
    "Il est maintenant possible d'itérer sur les valeurs de $\\delta$ ainsi que sur les couples $(R_0,I_0)$ pour chacune des trois méthodes:"
   ]
  },
  {
   "cell_type": "code",
   "execution_count": null,
   "metadata": {},
   "outputs": [],
   "source": [
    "i = 0\n",
    "\n",
    "# euler\n",
    "for delta in deltas:\n",
    "    for R0, i0 in R0i0_pairs:\n",
    "        h1, h4 = estimate_h1_h4(euler, -4, -1, T, R0, i0, delta)\n",
    "        h = golden_ratio_method(euler, h1, h4, T, R0, i0, delta)\n",
    "        print(f\"Euler: {h}\")\n",
    "            "
   ]
  },
  {
   "cell_type": "markdown",
   "metadata": {},
   "source": [
    "#### e)\n"
   ]
  },
  {
   "cell_type": "code",
   "execution_count": null,
   "metadata": {},
   "outputs": [],
   "source": []
  },
  {
   "cell_type": "markdown",
   "metadata": {},
   "source": [
    "### TP4.2 Simulation Monte-Carlo de la dynamique SIS (50 points)\n",
    "\n",
    "#### a)\n"
   ]
  },
  {
   "cell_type": "code",
   "execution_count": null,
   "metadata": {},
   "outputs": [],
   "source": []
  },
  {
   "cell_type": "markdown",
   "metadata": {},
   "source": [
    "#### b)\n"
   ]
  },
  {
   "cell_type": "code",
   "execution_count": null,
   "metadata": {},
   "outputs": [],
   "source": []
  },
  {
   "cell_type": "markdown",
   "metadata": {},
   "source": [
    "#### c)\n"
   ]
  },
  {
   "cell_type": "code",
   "execution_count": null,
   "metadata": {},
   "outputs": [],
   "source": []
  },
  {
   "cell_type": "markdown",
   "metadata": {},
   "source": [
    "#### d)"
   ]
  },
  {
   "cell_type": "code",
   "execution_count": null,
   "metadata": {},
   "outputs": [],
   "source": []
  }
 ],
 "metadata": {
  "kernelspec": {
   "display_name": "Python 3",
   "language": "python",
   "name": "python3"
  },
  "language_info": {
   "codemirror_mode": {
    "name": "ipython",
    "version": 3
   },
   "file_extension": ".py",
   "mimetype": "text/x-python",
   "name": "python",
   "nbconvert_exporter": "python",
   "pygments_lexer": "ipython3",
   "version": "3.12.10"
  }
 },
 "nbformat": 4,
 "nbformat_minor": 2
}
