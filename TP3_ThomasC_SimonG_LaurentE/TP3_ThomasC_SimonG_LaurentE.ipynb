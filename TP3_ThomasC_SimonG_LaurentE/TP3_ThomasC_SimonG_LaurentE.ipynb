{
 "cells": [
  {
   "cell_type": "markdown",
   "metadata": {},
   "source": [
    "# TP3 : Décomposition QR, bataille navale et épidemiologie\n",
    "### Physique Numérique (PHY-3500)\n",
    "### Par: Simon Gauthier, Laurent Émond, Thomas Charland\n",
    "### Présenté à: Xavier Roy-Pomerleau et Antoine Allard\n",
    "### Remis le: 14 avril 2025"
   ]
  },
  {
   "cell_type": "code",
   "execution_count": 26,
   "metadata": {},
   "outputs": [],
   "source": [
    "import numpy as np\n",
    "import csv\n",
    "import matplotlib.pyplot as plt\n",
    "import math\n",
    "from typing import Callable"
   ]
  },
  {
   "cell_type": "markdown",
   "metadata": {},
   "source": [
    "## TP3.1 : Décomposition QR par méthode de Householder"
   ]
  },
  {
   "cell_type": "markdown",
   "metadata": {},
   "source": [
    "### Mise en contexte"
   ]
  },
  {
   "cell_type": "markdown",
   "metadata": {},
   "source": [
    "Il existe plusieurs méthode afin de résoudre des systèmes d'équations linéaires, dont plusieurs atteignent cette fin en utilisant la réduction en matrice triangulaire du système d'équation. La méthode de *Householder* est l'une d'entre elle, et elle est souvent utilisée en physique numérique puisqu'elle est plus stable numériquement que d'autres méthodes (*Gram-Schmidt*, par exemple) [1]. Le fonctionnement intrinsèque de cette méthode est méconnu, et est exploré au TP3.1 ."
   ]
  },
  {
   "cell_type": "markdown",
   "metadata": {},
   "source": [
    "### (a) Démontrer que $Q_i$ sont orthogonales"
   ]
  },
  {
   "cell_type": "markdown",
   "metadata": {},
   "source": [
    "Prouvons d'abord que les matrices $\\mathbf{H}_{m,i}$ sont orthogonales. Ces dernières sont définies telles que:\n",
    "$$\n",
    "\\mathbf{H}_{m,i} = \\mathbf{I}_{m-i}-2\\frac{\\mathbf{v}_{m,i}\\mathbf{v}_{m,i}^T}{\\mathbf{v}_{m,i}^T\\mathbf{v}_{m,i}}\n",
    "$$\n",
    "où $\\mathbf{v}_{m,i}$ est un vecteur quelconque. On sait aussi que $\\mathbf{v}_{m,i}^T\\mathbf{v}_{m,i}=||\\mathbf{v}_{m,i}||^2$.\n",
    "Pour valider l'orthogonalité, il suffit de vérifier si $\\mathbf{H}_{m,i}\\mathbf{H}_{m,i}^T=\\mathbf{I}_{m-i}$. \n",
    "On a donc:\n",
    "$$\n",
    "\\begin{align*}\n",
    "    \\mathbf{H}_{m,i}\\mathbf{H}_{m,i}^T &= \\left(\\mathbf{I}_{m-i}-\\frac{2\\mathbf{v}_{m,i}\\mathbf{v}_{m,i}^T}{||\\mathbf{v}_{m,i}||^2}\\right)\\left(\\mathbf{I}_{m-i}-\\frac{2\\mathbf{v}_{m,i}\\mathbf{v}_{m,i}^T}{||\\mathbf{v}_{m,i}||^2}\\right)^T\\\\\n",
    "    &=\\left(\\mathbf{I}_{m-i}-\\frac{2\\mathbf{v}_{m,i}\\mathbf{v}_{m,i}^T}{||\\mathbf{v}_{m,i}||^2}\\right)\\left(\\mathbf{I}^T_{m-i}-\\frac{2(\\mathbf{v}_{m,i}\\mathbf{v}_{m,i}^T)^T}{||\\mathbf{v}_{m,i}||^2}\\right)\\\\\n",
    "    &= \\left(\\mathbf{I}_{m-i}-\\frac{2\\mathbf{v}_{m,i}\\mathbf{v}_{m,i}^T}{||\\mathbf{v}_{m,i}||^2}\\right)\\left(\\mathbf{I}_{m-i}-\\frac{2(\\mathbf{v}^T_{m,i})^T\\mathbf{v}_{m,i}^T}{||\\mathbf{v}_{m,i}||^2}\\right)\\\\\n",
    "    &= \\left(\\mathbf{I}_{m-i}-\\frac{2\\mathbf{v}_{m,i}\\mathbf{v}_{m,i}^T}{||\\mathbf{v}_{m,i}||^2}\\right)^2\\\\\n",
    "    &=\\mathbf{I}^2_{m-i}-\\frac{4\\mathbf{I}_{m-i}\\mathbf{v}_{m,i}\\mathbf{v}^T_{m,i}}{||\\mathbf{v}_{m,i}||^2}+\\frac{4\\mathbf{v}_{m,i}\\mathbf{v}^T_{m,i}\\mathbf{v}_{m,i}\\mathbf{v}^T_{m,i}}{||\\mathbf{v}_{m,i}||^4}\\\\\n",
    "    &=\\mathbf{I}^2_{m-i}-\\frac{4\\mathbf{I}_{m-i}\\mathbf{v}_{m,i}\\mathbf{v}^T_{m,i}}{||\\mathbf{v}_{m,i}||^2}+\\frac{4\\mathbf{v}_{m,i}||\\mathbf{v}_{m,i}||^2\\mathbf{v}^T_{m,i}}{||\\mathbf{v}_{m,i}||^4}\\\\\n",
    "    &=\\mathbf{I}^2_{m-i}-\\frac{4\\mathbf{v}_{m,i}\\mathbf{v}^T_{m,i}}{||\\mathbf{v}_{m,i}||^2}+\\frac{4\\mathbf{v}_{m,i}\\mathbf{v}^T_{m,i}}{||\\mathbf{v}_{m,i}||^2}\\\\\n",
    "    &= \\mathbf{I}^2_{m-i}\\\\\n",
    "    &=\\mathbf{I}_{m-i}\\\\\n",
    "    &CQFD\n",
    "\\end{align*}\n",
    "$$\n",
    "\n",
    "On a donc que la matrice est orthogonale. Sachant cela, vérifions que $\\mathbf{Q}_i$ est aussi orthogonale. On veut donc vérifier si:\n",
    "$$\n",
    "\\mathbf{Q}_i\\mathbf{Q}^T_i=\\mathbf{I}_i\n",
    "$$\n",
    "Pour cela, on trouve que:\n",
    "$$\n",
    "\\mathbf{Q}^T_i=\n",
    "\\begin{pmatrix}\n",
    "\\mathbf{I}_i & \\mathbf{0}\\\\\n",
    "\\mathbf{0} & \\mathbf{H}_{m,i}\\\\\n",
    "\\end{pmatrix}^T=\n",
    "\\begin{pmatrix}\n",
    "\\mathbf{I}^T_i & \\mathbf{0}\\\\\n",
    "\\mathbf{0} & \\mathbf{H}^T_{m,i}\\\\\n",
    "\\end{pmatrix} =\n",
    "\\begin{pmatrix}\n",
    "\\mathbf{I}_i & \\mathbf{0}\\\\\n",
    "\\mathbf{0} & \\mathbf{H}_{m,i}\\\\\n",
    "\\end{pmatrix}=\\mathbf{Q}_i\n",
    "$$\n",
    "On vérifie donc que:\n",
    "$$\n",
    "\\mathbf{I}_m = \\begin{pmatrix}\n",
    "\\mathbf{I}_i & \\mathbf{0}\\\\\n",
    "\\mathbf{0} & \\mathbf{H}_{m,i}\\\\\n",
    "\\end{pmatrix}^2=\n",
    "\\begin{pmatrix}\n",
    "\\mathbf{I}^2_i & \\mathbf{0}\\\\\n",
    "\\mathbf{0} & \\mathbf{H}^2_{m,i}\\\\\n",
    "\\end{pmatrix}=\\begin{pmatrix}\n",
    "\\mathbf{I}_i & \\mathbf{0}\\\\\n",
    "\\mathbf{0} & \\mathbf{I}_{m-i}\\\\\n",
    "\\end{pmatrix}=\\mathbf{I}_{m}\n",
    "$$\n",
    "La matrice $\\mathbf{Q}_i$ est donc orthogonale.\n"
   ]
  },
  {
   "cell_type": "markdown",
   "metadata": {},
   "source": [
    "### (b) Démontrer équation 3.5 et que matrice $Q$ est orthogonale"
   ]
  },
  {
   "cell_type": "markdown",
   "metadata": {},
   "source": [
    "D'abord, on sait que la décomposition QR de la matrice $\\mathbf{A}$ s'écrit comme:\n",
    "$$\n",
    "\\mathbf{A} = \\mathbf{Q}\\mathbf{R}\n",
    "$$\n",
    "En multipliant par $\\mathbf{Q}^{-1}$, on a:\n",
    "$$\n",
    "\\begin{align*}\n",
    "\\mathbf{Q}^{-1}\\mathbf{A} &= \\mathbf{Q}^{-1}\\mathbf{Q}\\mathbf{R}\\\\\n",
    "\\mathbf{Q}^{-1}\\mathbf{A} &= \\mathbf{R}\n",
    "\\end{align*}\n",
    "$$\n",
    "De plus, on sait que la décomposition peut également s'écrire telle que:\n",
    "Cette décomposition s'écrit également tel que:\n",
    "$$\n",
    "\\mathbf{Q}_{n-1}\\mathbf{Q}_{n-2}...\\mathbf{Q}_1\\mathbf{Q}_0\\mathbf{A}=\\mathbf{R}\n",
    "$$\n",
    "On a donc que:\n",
    "$$\n",
    "\\begin{align*}\n",
    "\\mathbf{Q}^{-1} &= \\mathbf{Q}_{n-1}\\mathbf{Q}_{n-2}...\\mathbf{Q}_1\\mathbf{Q}_0\n",
    "\\end{align*}\n",
    "$$\n",
    "En supposant que $\\mathbf{Q}$ est orthogonale, on sait que $\\mathbf{Q}^{-1}=\\mathbf{Q}^T$. On a donc:\n",
    "$$\n",
    "\\begin{align*}\n",
    "\\mathbf{Q}^{T} &= \\mathbf{Q}_{n-1}\\mathbf{Q}_{n-2}...\\mathbf{Q}_1\\mathbf{Q}_0\\\\\n",
    "\\left(\\mathbf{Q}^{T}\\right)^T &= \\left(\\mathbf{Q}_{n-1}\\mathbf{Q}_{n-2}...\\mathbf{Q}_1\\mathbf{Q}_0\\right)^T\\\\\n",
    "\\mathbf{Q} &= \\mathbf{Q}^T_{0}\\mathbf{Q}^T_{1}...\\mathbf{Q}^T_{n-2}\\mathbf{Q}^T_{n-1}\\\\\n",
    "&CQFD\n",
    "\\end{align*}\n",
    "$$\n",
    "Ensuite, on peut prouver que $\\mathbf{Q}$ est aussi orthogonale en déterminant si $\\mathbf{Q}\\mathbf{Q}^T=\\mathbf{I}$. Pour cela, on utilise le fait que $\\mathbf{Q}_{i}$ est orthogonale et donc que $\\mathbf{Q}^T_i\\mathbf{Q}_i=\\mathbf{Q}_i\\mathbf{Q}^T_i=\\mathbf{I}$:\n",
    "$$\n",
    "\\begin{align*}\n",
    "\\mathbf{I} &= \\mathbf{Q}\\mathbf{Q}^T\\\\\n",
    "&= \\left(\\mathbf{Q}^T_{0}\\mathbf{Q}^T_{1}...\\mathbf{Q}^T_{n-2}\\mathbf{Q}^T_{n-1}\\right)\\left(\\mathbf{Q}^T_{0}\\mathbf{Q}^T_{1}...\\mathbf{Q}^T_{n-2}\\mathbf{Q}^T_{n-1}\\right)^T\\\\\n",
    "&=\\left(\\mathbf{Q}^T_{0}\\mathbf{Q}^T_{1}...\\mathbf{Q}^T_{n-2}\\mathbf{Q}^T_{n-1}\\right)\\left(\\mathbf{Q}_{n-1}\\mathbf{Q}_{n-2}...\\mathbf{Q}_{1}\\mathbf{Q}_{0}\\right)\\\\\n",
    "&= \\mathbf{Q}^T_{0}\\mathbf{Q}^T_{1}...\\mathbf{Q}^T_{n-2}\\mathbf{Q}^T_{n-1}\\mathbf{Q}_{n-1}\\mathbf{Q}_{n-2}...\\mathbf{Q}_{1}\\mathbf{Q}_{0}\\\\\n",
    "&=\\mathbf{Q}^T_{0}\\mathbf{Q}^T_{1}...\\mathbf{Q}^T_{n-2}(\\mathbf{I})\\mathbf{Q}_{n-2}...\\mathbf{Q}_{1}\\mathbf{Q}_{0}\\\\\n",
    "&= \\mathbf{Q}^T_{0}\\mathbf{Q}^T_{1}...\\mathbf{Q}^T_{n-2}\\mathbf{Q}_{n-2}...\\mathbf{Q}_{1}\\mathbf{Q}_{0}\\\\\n",
    "&= \\mathbf{Q}^T_{0}\\mathbf{Q}^T_{1}...(\\mathbf{I})...\\mathbf{Q}_{1}\\mathbf{Q}_{0}\\\\\n",
    "&...\\\\\n",
    "&= \\mathbf{I}\\\\\n",
    "&CQFD\n",
    "\\end{align*}\n",
    "$$"
   ]
  },
  {
   "cell_type": "markdown",
   "metadata": {},
   "source": [
    "### (c) Implémenter householder_qr"
   ]
  },
  {
   "cell_type": "code",
   "execution_count": null,
   "metadata": {},
   "outputs": [],
   "source": [
    "#Code pour TP3.1.c\n",
    "\n",
    "def householder_qr(A_matrix):\n",
    "    m, n = A_matrix.shape\n",
    "    Q_matrices = []\n",
    "    Q_matrix = np.identity(m)\n",
    "    R_matrix = A_matrix\n",
    "\n",
    "    #itère sur le nombre de colonnes\n",
    "    for i in range(n):\n",
    "        if i == 0:\n",
    "            x_vector = np.array([A_matrix[:, i][-(m-i):]]).T\n",
    "            e1_vector = np.array([[1] + [0]*(m-i-1)]).T\n",
    "            \n",
    "            v_mi_vector = np.sign(x_vector[0]) * np.linalg.norm(x_vector) * e1_vector + x_vector\n",
    "            H_mi_matrix = np.identity(m-i) - 2 * (v_mi_vector @ v_mi_vector.T)/(v_mi_vector.T @ v_mi_vector)\n",
    "            Q_i = H_mi_matrix\n",
    "\n",
    "            Q_matrices.append(Q_i)\n",
    "            Q_matrix = Q_i @ Q_matrix\n",
    "            R_matrix  = Q_i @ A_matrix\n",
    "        else:\n",
    "            x_vector = np.array([R_matrix[:, i][-(m-i):]]).T\n",
    "            e1_vector = np.array([[1] + [0]*(m-i-1)]).T\n",
    "            \n",
    "            v_mi_vector = np.sign(x_vector[0]) * np.linalg.norm(x_vector) * e1_vector + x_vector\n",
    "            H_mi_matrix = np.identity(m-i) - 2 * (v_mi_vector @ v_mi_vector.T)/(v_mi_vector.T @ v_mi_vector)\n",
    "\n",
    "            Q_i_top_half = np.concatenate([np.identity(i), np.zeros((i, m-i))], axis=1)\n",
    "            Q_i_bottom_half = np.concatenate([np.zeros((m-i, i)), H_mi_matrix], axis=1)\n",
    "            Q_i = np.concatenate([Q_i_top_half, Q_i_bottom_half])\n",
    "            \n",
    "            Q_matrices.append(Q_i)\n",
    "            Q_matrix = Q_i @ Q_matrix\n",
    "            R_matrix = Q_i @ R_matrix\n",
    "    \n",
    "    return Q_matrices, Q_matrix, R_matrix"
   ]
  },
  {
   "cell_type": "markdown",
   "metadata": {},
   "source": [
    "Insérer explications textuelles ici"
   ]
  },
  {
   "cell_type": "markdown",
   "metadata": {},
   "source": [
    "### (d) Comparer avec numpy.linalg.qr"
   ]
  },
  {
   "cell_type": "code",
   "execution_count": null,
   "metadata": {},
   "outputs": [],
   "source": [
    "#Code pour TP3.1.d\n",
    "\n",
    "test_Matrix = np.array([[0.39805139, 0.4602148,  0.77802764], [0.50348954, 0.31542224, 0.18787408], [0.55434532, 0.38180744, 0.36835822], [0.68027513, 0.39975617, 0.29883721]])\n",
    "print(\"Voici la matrice test utilisée en entrée: \\n\", test_Matrix, \"\\n\")\n",
    "\n",
    "Q_matrices_homebrew, Q_matrix_hombrew, R_matrix_homebrew = householder_qr(test_Matrix)\n",
    "\n",
    "Q_matrix_numpy, R_matrix_numpy = np.linalg.qr(test_Matrix)\n",
    "\n",
    "print(\"Voici la matrice obtenue avec notre méthode householder_qr: \\n\", R_matrix_homebrew, \"\\n\")\n",
    "print(\"Voici la matrice obtenue avec la méthode numpy.linalg.qr \\n\", R_matrix_numpy, \"\\n\")\n",
    "\n"
   ]
  },
  {
   "cell_type": "markdown",
   "metadata": {},
   "source": [
    "Plusieurs différences sont identifiées entre le résultat des deux méthodes:\n",
    "- Les dimensions de la matrice obtenue avec householder_qr est 4x3, alors que celle avec numpy est de 3x3 - on dit alors qu'elle est réduite. La rangée supplémentaire de notre matrice est sensiblement remplie de zéros, ce qui fait en sorte qu'elle n'affecte en rien le résultat obtenu. Puisque l'énoncé du TP disait que la matrice R devait être de la même forme $m$ x $n$ que la matrice A, nous décidons de garder la forme de la matrice R ainsi.\n",
    "- Les valeurs obtenues sont sensiblement les mêmes. Avec la méthode numpy, nous obtenons de \"vrais\" zéros, alors que notre méthode householder_qr nous retourne des chiffres très proches de zéros (de l'ordre de e-17 ou plus petit), mais qui ne sont pas vraiment zéro. Il serait possible d'arrondir nos chiffres à la 8e décimale comme numpy, ce qui nous permettrait d'avoir des vrais zéros et de se débarasser de la notation scientifique. Toutefois, nous ne croyons pas que cette différence causera problème plus tard lors de la résolution de systèmes d'équations linéaires."
   ]
  },
  {
   "cell_type": "markdown",
   "metadata": {},
   "source": [
    "### (e) Illustrer la triangularisation de la matrice du numéro précédent"
   ]
  },
  {
   "cell_type": "code",
   "execution_count": null,
   "metadata": {},
   "outputs": [],
   "source": [
    "#Code pour TP3.1.e\n",
    "\n",
    "print(\"Voici la matrice test utilisée en entrée: \\n\", test_Matrix, \"\\n\")\n",
    "\n",
    "new_Matrix = test_Matrix\n",
    "for i in range(len(Q_matrices_homebrew)):\n",
    "    print(f\"MATRICE Q_{i+1}\", \"\\n\")\n",
    "    #Si la matrice est orthogonale, son produit avec sa transposée donne la mtrice identité\n",
    "    product = Q_matrices_homebrew[i] @ Q_matrices_homebrew[i].T\n",
    "    is_orthognal = np.allclose(product, np.identity(Q_matrices_homebrew[i].shape[0]))\n",
    "    print(f\"La matrice Q_{i+1} est orthogonale: \", is_orthognal)\n",
    "    new_Matrix = Q_matrices_homebrew[i] @ new_Matrix\n",
    "    print(f\"En multipliant avec la matrice Q_{i+1}, nous obtenons la matrice suivante: \\n\", new_Matrix)\n",
    "\n",
    "    is_triangular_superior = np.allclose(new_Matrix, np.triu(new_Matrix))\n",
    "    print(\"La matrice obtenue après multiplication est triangulaire supérieure: \", is_triangular_superior, \"\\n\")"
   ]
  },
  {
   "cell_type": "markdown",
   "metadata": {},
   "source": [
    "On voit qu'à chaque multiplication d'une matrice Q, nous traitons une colonne de plus en transformant les élements en bas de la diagonale à zéro, jusqu'à triangulariser la totalité des colonnes de notre matrice et ainsi obtenir la matrice R. Chacune des matrices Q est orthogonale, et la matrice R est bel et bien triangulaire supérieure. "
   ]
  },
  {
   "cell_type": "markdown",
   "metadata": {},
   "source": [
    "# TP3.2 : bataille navale"
   ]
  },
  {
   "cell_type": "markdown",
   "metadata": {},
   "source": [
    "### Mise en contexte"
   ]
  },
  {
   "cell_type": "markdown",
   "metadata": {},
   "source": [
    "La décomposition QR présentée au TP3.1 permet de résoudre des systèmes d'équations linéaires de manière numérique. Au TP3.2, nous utiliserons cette méthode afin d'aider notre riche amie à gagner son jeu de bataille navale grandeur nature. Espérons qu'après l'aide que nous lui apportons, elle nous nommera sur son testament! "
   ]
  },
  {
   "cell_type": "markdown",
   "metadata": {},
   "source": [
    "### (a) modifier le code de la décomposition QR"
   ]
  },
  {
   "cell_type": "code",
   "execution_count": null,
   "metadata": {},
   "outputs": [],
   "source": [
    "#insérer code pour question TP3.2.a\n",
    "\n",
    "def householder_qr(A_matrix, reduite=False):\n",
    "    m, n = A_matrix.shape\n",
    "    Q_matrices = []\n",
    "    Q_matrix = np.identity(m)\n",
    "    R_matrix = A_matrix\n",
    "\n",
    "    #itère sur le nombre de colonnes\n",
    "    for i in range(n):\n",
    "        if i == 0:\n",
    "            x_vector = np.array([A_matrix[:, i][-(m-i):]]).T\n",
    "            e1_vector = np.array([[1] + [0]*(m-i-1)]).T\n",
    "            \n",
    "            v_mi_vector = np.sign(x_vector[0]) * np.linalg.norm(x_vector) * e1_vector + x_vector\n",
    "            H_mi_matrix = np.identity(m-i) - 2 * (v_mi_vector @ v_mi_vector.T)/(v_mi_vector.T @ v_mi_vector)\n",
    "            Q_i = H_mi_matrix\n",
    "\n",
    "            Q_matrices.append(Q_i)\n",
    "            Q_matrix = Q_i @ Q_matrix\n",
    "            R_matrix  = Q_i @ A_matrix\n",
    "        else:\n",
    "            x_vector = np.array([R_matrix[:, i][-(m-i):]]).T\n",
    "            e1_vector = np.array([[1] + [0]*(m-i-1)]).T\n",
    "            \n",
    "            v_mi_vector = np.sign(x_vector[0]) * np.linalg.norm(x_vector) * e1_vector + x_vector\n",
    "            H_mi_matrix = np.identity(m-i) - 2 * (v_mi_vector @ v_mi_vector.T)/(v_mi_vector.T @ v_mi_vector)\n",
    "\n",
    "            Q_i_top_half = np.concatenate([np.identity(i), np.zeros((i, m-i))], axis=1)\n",
    "            Q_i_bottom_half = np.concatenate([np.zeros((m-i, i)), H_mi_matrix], axis=1)\n",
    "            Q_i = np.concatenate([Q_i_top_half, Q_i_bottom_half])\n",
    "            \n",
    "            Q_matrices.append(Q_i)\n",
    "            Q_matrix = Q_i @ Q_matrix\n",
    "            R_matrix = Q_i @ R_matrix\n",
    "\n",
    "    if reduite:\n",
    "        R_matrix = R_matrix[:-(m-n)]\n",
    "        Q_matrix = Q_matrix[:-(m-n)].T\n",
    "    \n",
    "    return Q_matrices, Q_matrix, R_matrix"
   ]
  },
  {
   "cell_type": "markdown",
   "metadata": {},
   "source": [
    "Insérer explications textuelles ici"
   ]
  },
  {
   "cell_type": "markdown",
   "metadata": {},
   "source": [
    "### (b) résoudre approximativement l'équation 3.9"
   ]
  },
  {
   "cell_type": "code",
   "execution_count": null,
   "metadata": {},
   "outputs": [],
   "source": [
    "#insérer code pour question TP3.2.b\n",
    "def readCsvFile(file_path):\n",
    "    x_values = []\n",
    "    y_values = []\n",
    "\n",
    "    with open(file_path, 'r') as file:\n",
    "        reader = csv.reader(file)\n",
    "        next(reader)  # Skip the header row\n",
    "        for row in reader:\n",
    "            x_values.append(float(row[0]))\n",
    "            y_values.append(float(row[1]))\n",
    "    \n",
    "    return x_values, y_values\n",
    "\n",
    "def solve_by_retrosubstitution(x_vector, y_vector):\n",
    "    #build original X matrix\n",
    "    X_matrix = np.array([[1, x_vector[0][0], x_vector[0][0]**2]])\n",
    "    for i in range(len(x_vector)-1):\n",
    "        new_row = np.array([[1, x_vector[i+1][0], x_vector[i+1][0]**2]])\n",
    "        X_matrix = np.concatenate([X_matrix, new_row], axis = 0)\n",
    "\n",
    "    all_reduced_Q_matrices, reduced_Q_matrix, reduced_R_matrix = householder_qr(X_matrix, reduite=True)\n",
    "    right_side_matrix = reduced_Q_matrix.T @ y_vector\n",
    "\n",
    "    alpha_2 = right_side_matrix[2][0] / reduced_R_matrix[2][2]\n",
    "    alpha_1 = (right_side_matrix[1][0] - alpha_2 * reduced_R_matrix[1][2]) / reduced_R_matrix[1][1]\n",
    "    alpha_0 = (right_side_matrix[0][0] - alpha_2 * reduced_R_matrix[0][2] - alpha_1 * reduced_R_matrix[0][1]) / reduced_R_matrix[0][0]\n",
    "    alpha_vector = np.array([[alpha_0, alpha_1, alpha_2]]).T\n",
    "\n",
    "    return alpha_vector\n",
    "\n",
    "x_values, y_values = readCsvFile(\"data/bataille_navale_equipe009.csv\")\n",
    "x_vector, y_vector = np.array([x_values]).T, np.array([y_values]).T\n",
    "alpha_vector = solve_by_retrosubstitution(x_vector, y_vector)\n",
    "\n",
    "print(\"Valeur de alpha_0 : \", alpha_vector[0][0])\n",
    "print(\"Valeur de alpha_1 : \", alpha_vector[1][0])\n",
    "print(\"Valeur de alpha_2 : \", alpha_vector[2][0])"
   ]
  },
  {
   "cell_type": "markdown",
   "metadata": {},
   "source": [
    "Insérer explications textuelles ici"
   ]
  },
  {
   "cell_type": "markdown",
   "metadata": {},
   "source": [
    "### (c) Tracez les données et solutions estimées"
   ]
  },
  {
   "cell_type": "code",
   "execution_count": null,
   "metadata": {},
   "outputs": [],
   "source": [
    "#insérer code pour question TP3.2.c\n",
    "\n",
    "x_range = [element for element in range(3000)]\n",
    "y_trajectory = []\n",
    "increment = 0\n",
    "for x in x_range:\n",
    "    y_position = alpha_vector[0][0] + alpha_vector[1][0]*x + alpha_vector[2][0]*(x**2)\n",
    "    if y_position < 0 and increment > 100:\n",
    "        break\n",
    "    else:\n",
    "        y_trajectory.append(y_position)\n",
    "        increment += 1\n",
    "x_range = x_range[:increment]\n",
    "\n",
    "plt.scatter(x_values, y_values, color=\"black\")\n",
    "plt.plot(x_range, y_trajectory)\n",
    "plt.xlabel(\"Position en x\")\n",
    "plt.ylabel(\"Position en y\")\n",
    "plt.show()"
   ]
  },
  {
   "cell_type": "markdown",
   "metadata": {},
   "source": [
    "Insérer explications textuelles ici"
   ]
  },
  {
   "cell_type": "markdown",
   "metadata": {},
   "source": [
    "### (d) Comparaison de méthodes de résolution"
   ]
  },
  {
   "cell_type": "code",
   "execution_count": null,
   "metadata": {},
   "outputs": [],
   "source": [
    "#insérer code ici\n",
    "\n",
    "def fonction_x(alpha_vec, x_value):\n",
    "    return alpha_vec[0][0] + alpha_vec[1][0] * x_value + alpha_vec[2][0] * (x_value**2)\n",
    "\n",
    "def bissection_quadratique(f_x, x_start, x_end, tolerance = 1e-4):\n",
    "    #résout une quadratique de forme y(x) = alpha_0 + alpha_1 * x + alpha_2 * (x**2) par bissection\n",
    "\n",
    "    delta_x = x_end - x_start\n",
    "    while delta_x > tolerance:\n",
    "        y_value_start, y_value_end = f_x(alpha_vector, x_start), f_x(alpha_vector, x_end)\n",
    "        if math.copysign(1, y_value_start) != math.copysign(1, y_value_end): #checks that both are opposite signs\n",
    "            x_middle = x_start + (x_end - x_start) / 2\n",
    "            y_value_middle = f_x(alpha_vector, x_middle)\n",
    "            if math.copysign(1, y_value_start) == math.copysign(1, y_value_middle):\n",
    "                x_start = x_middle\n",
    "            else:\n",
    "                x_end = x_middle\n",
    "            delta_x = x_end - x_start\n",
    "        else:\n",
    "            raise ValueError(\"y_value_start and y_value_end are the same sign!\")\n",
    "    \n",
    "    return x_middle\n",
    "\n",
    "position_dimpact_projectile = bissection_quadratique(fonction_x, 100, 3000)\n",
    "print(f\"Selon la méthode de bissection, le projectile va frapper le sol à {position_dimpact_projectile}m de notre bateau\")\n",
    "\n"
   ]
  },
  {
   "cell_type": "markdown",
   "metadata": {},
   "source": [
    "Pour la résolution analytique, nous avons un système de deux équations:\n",
    "\n",
    "\\begin{align}\n",
    "    y_1 = \\frac{v_y}{v_x}x_1 + \\frac{a_y}{2v_x^2}x_1^2\\\\\n",
    "    y_2 = \\frac{v_y}{v_x}x_2 + \\frac{a_y}{2v_x^2}x_2^2\\\\\n",
    "\\end{align}\n",
    "\n",
    "Les valeurs de $y_1$, $y_2$, $x_1$, $x_2$ et $a_y$ sont connues. Il suffit donc de résoudre pour v_x et v_y. Commençons par isoler v_y dans (1), ce qui nous donne:\n",
    "\n",
    "\\begin{align*}\n",
    "   v_y = \\frac{(y_1 - \\frac{a_y}{2v_x^2}x_1^2)v_x}{x_1}\\\\\n",
    "\\end{align*}\n",
    "\n",
    "On remplace alors dans (2), ce qui nous donne:\n",
    "\n",
    "\\begin{align*}\n",
    "y_2 = \\frac{y_1x_2}{x_1} + \\left( \\frac{-a_yx_1^2x_2}{2x_1} + \\frac{a_yx_2^2}{2} \\right)v_x^{-2}\n",
    "\\end{align*}\n",
    "\n",
    "On isole alors $v_x$:\n",
    "\n",
    "\\begin{align*}\n",
    "    v_x = \\sqrt{ \\left[ \\left(y_2 - \\frac{y_1x_2}{x_1} \\right) \\left( \\frac{-a_yx_1x_2}{2} + \\frac{a_yx_2^2}{2}\\right)^{-1}  \\right]^{-1} }\n",
    "\\end{align*}\n",
    "\n",
    "Nous pouvons alors résoudre notre équation pour $v_x$ et $v_y$! Voir code ci-bas."
   ]
  },
  {
   "cell_type": "code",
   "execution_count": null,
   "metadata": {},
   "outputs": [],
   "source": [
    "#résolution analytique\n",
    "\n",
    "a_y = -9.81\n",
    "x_values, y_values= readCsvFile(\"data/bataille_navale_equipe009.csv\")\n",
    "x_1, x_2, y_1, y_2 = x_values[0], x_values[5], y_values[0], y_values[5]\n",
    "\n",
    "v_x = math.sqrt( ( (y_2 - y_1*x_2/x_1 ) * (-a_y*x_1*x_2/2 + a_y*(x_2**2)/2)**(-1) )**(-1) )\n",
    "v_y = (y_1 - a_y/2/(v_x**2)*(x_1**2)) * v_x / x_1\n",
    "\n",
    "print(f\"Les vitesses initiales sont v_x0 = {v_x} m/s et v_y0 = {v_y} m /s\")"
   ]
  },
  {
   "cell_type": "markdown",
   "metadata": {},
   "source": [
    "Maintenant que nous avons $v_x$ et $v_y$, nous pouvons résoudre pour trouver x lorsque y = 0. Réécrivons notre équation (1):\n",
    "\n",
    "\\begin{align*}\n",
    "    0 = \\frac{v_y}{v_x}x + \\frac{a_y}{2v_x^2}x^2\n",
    "\\end{align*}\n",
    "\n",
    "On utilise la formule quadratique avec $a = \\frac{a_y}{2v_x^2}$, $b = \\frac{v_y}{v_x}$ et $c=0:\n",
    "\n",
    "\\begin{align*}\n",
    "    x = \\frac{-\\frac{v_y}{v_x} \\pm \\sqrt{(\\frac{v_y}{v_x})^2 - 4\\cdot\\frac{a_y}{2v_x^2}\\cdot0}}{2\\frac{a_y}{2v_x^2}}\n",
    "\\end{align*}\n",
    "\n",
    "Ce que nous résolvons dans le code ci-bas:"
   ]
  },
  {
   "cell_type": "code",
   "execution_count": null,
   "metadata": {},
   "outputs": [],
   "source": [
    "\n",
    "\n",
    "x_plus = (-v_y/v_x + math.sqrt((v_y/v_x)**2 - 4*a_y/(2*(v_x**2))*0)) / (2*a_y/(2*(v_x**2)) )\n",
    "x_moins = (-v_y/v_x - math.sqrt((v_y/v_x)**2 - 4*a_y/(2*(v_x**2))*0)) / (2*a_y/(2*(v_x**2)) )\n",
    "\n",
    "x_projectile = max(x_plus, x_moins)\n",
    "print(f\"Selon la méthode analytioque, le projectile va retomber à {x_projectile}m de notre bateau!\")"
   ]
  },
  {
   "cell_type": "markdown",
   "metadata": {},
   "source": [
    "COMPARER LA SOLUTION ANALYTIQUE VS SOLUTION AMTRICIELLE"
   ]
  },
  {
   "cell_type": "markdown",
   "metadata": {},
   "source": [
    "# TP3.3 : Épidemiologie SIR sur réseau"
   ]
  },
  {
   "cell_type": "markdown",
   "metadata": {},
   "source": [
    "### Mise en contexte"
   ]
  },
  {
   "cell_type": "markdown",
   "metadata": {},
   "source": [
    "Le modèle épidemiologique SIR simule la propagation d'un agent pathogène contagieux au sein d’une population [1]. Ce modèle est basé sur deux composantes majeures: nombre de contacts de chaque individu ($P(n)$) et la contagiosité de la malade ($R_{\\infty}). Ce TP3.3 se penche sur la résolution du modèle SIR, ce qui nous permettra d'éviter de tomber malade la prochaine fois qu'il y a une pandémie... #not"
   ]
  },
  {
   "cell_type": "markdown",
   "metadata": {},
   "source": [
    "### (a) Solutions analytiques"
   ]
  },
  {
   "cell_type": "markdown",
   "metadata": {},
   "source": [
    "Par inspection de l'équation initiale,\n",
    "On peut réécrire l'équation sous la forme suivante et la mettre égale à 0 pour trouver ses racines:\n",
    "$$\n",
    "u[1+T(\\kappa-1)(1-u)]^2-1=0\n",
    "$$\n",
    "Ensuite, on définit $\\alpha=T(\\kappa-1)$:\n",
    "$$\n",
    "u[1+\\alpha(1-u)]^2-1=0\n",
    "$$\n",
    "Par inspection de l'équation ci-dessous, on remarque aisément que $u=1$ est une racine. Il sera donc possible de diviser par le facteur $u-1$ pour trouver une équation de degré 2. D'abord, en développant les termes, on obtient:\n",
    "$$\n",
    "-1+u(1+\\alpha^2+2\\alpha)+u^2(-2\\alpha-2\\alpha^2)+u^2\\alpha^2=0\n",
    "$$\n",
    "On divise par $u-1$ et on obtient:\n",
    "$$\n",
    "(u-1)(u^2\\alpha^2+u(-2\\alpha-\\alpha^2)+1)=0\n",
    "$$\n",
    "On trouve que les racines du polynôme de degré 2 sont:\n",
    "$$\n",
    "u=\\frac{2+\\alpha\\pm\\sqrt{\\alpha}\\sqrt{\\alpha+4}}{2\\alpha}\n",
    "$$\n",
    "En somme, on a donc les racines suivantes pour l'équation initiale:\n",
    "$$\n",
    "u=1 \\quad u=\\frac{2+T(\\kappa-1)\\pm\\sqrt{T(\\kappa-1)}\\sqrt{T(\\kappa-1)+4}}{2T(\\kappa-1)}\n",
    "$$"
   ]
  },
  {
   "cell_type": "markdown",
   "metadata": {},
   "source": [
    "### (b) Démontrer la solution qui correspond à $u$"
   ]
  },
  {
   "cell_type": "markdown",
   "metadata": {},
   "source": [
    "Puisque l'on s'intéresse à la plus petite solution non-négative de $u$, il faut vérifier laquelle des 3 solutions il s'agit en fonction de la valeur de $T$ et de $\\kappa$. Dans l'énoncé, on nous indique que $\\kappa=5$ et que $T$ peut varier entre 0 et 1. On peut donc simplifier les solutions conjuguées:\n",
    "$$\n",
    "\\begin{align*}\n",
    "u&=\\frac{2+4T\\pm\\sqrt{4T}\\sqrt{4T+4}}{8T}\n",
    "&= \\frac{1+2T\\pm 2\\sqrt{T}\\sqrt{T+1}}{4T}\n",
    "\\end{align*}\n",
    "$$\n",
    "Maintenant, puisque $T>0$, on constate que les deux solutions conjuguées seront positives et que la solution en $u_+$ sera plus grande que la solution $u_-$. Puisque que l'on cherche la plus petite solution (positive), on peut donc éliminer la solution $u_{+}$. Les deux solution restantes sont donc:\n",
    "$$\n",
    "u=1 \\quad u=\\frac{1+2T- 2\\sqrt{T}\\sqrt{T+1}}{4T}\n",
    "$$\n",
    "Maintenant, pour vérifier dans quel régime (valeur de $T$) les solutions sont valides, il suffit de valide laquelle est la plus petite en fonction de $T$. En effet, on sait que pour une certaine valeur $T_{crit}$, les deux solutions sont égales $\\left(1=\\frac{1+2T- 2\\sqrt{T}\\sqrt{T+1}}{4T}\\right)$. Il est donc possible de trouver ce point critique avec l'inégalité suivante:\n",
    "$$\n",
    "\\begin{align*}\n",
    "\\frac{1+2T- 2\\sqrt{T}\\sqrt{T+1}}{4T}&>1\\\\\n",
    "1+2T- 2\\sqrt{T}\\sqrt{T+1} &> 4T\\\\\n",
    "-2\\sqrt{T}\\sqrt{T+1} &> 4T - 1 - 2T\\\\\n",
    "\\left(-2\\sqrt{T(T+1)}\\right)^2 &> \\left(2T - 1\\right)^2\\\\\n",
    "4T(T+1) &> 4T^2-4T+1\\\\\n",
    "4T^2+4T &> 4T^2-4T+1\\\\\n",
    "8T-1=0\\\\\n",
    "\\Rightarrow T>\\frac{1}{8}\n",
    "\\end{align*}\n",
    "$$\n",
    "On a donc, pour $\\kappa=5$, que $T_{crit}=\\frac{1}{8}$ et donc que:\n",
    "$$\n",
    "u=\n",
    "\\begin{cases}\n",
    "    \\frac{1+2T- 2\\sqrt{T}\\sqrt{T+1}}{4T}, &\\quad \\frac{1}{8} < T \\le 1\\\\\n",
    "    1, &\\quad 0 \\le T \\le \\frac{1}{8}\n",
    "\\end{cases}\n",
    "$$\n",
    "En mots, cela implique que si $T$ est plus petit ou inférieur à $\\frac{1}{8}$, la solution à considérer est $u=1$, alors que l'autre solution est à prioriser pour le cas échéant."
   ]
  },
  {
   "cell_type": "markdown",
   "metadata": {},
   "source": [
    "### (c) Tracez $R_{\\infty}$ en fonction de $T$"
   ]
  },
  {
   "cell_type": "markdown",
   "metadata": {},
   "source": [
    "Pour $\\kappa=5$, on a que:\n",
    "$$\n",
    "\\begin{align*}\n",
    "R_{\\infty} &= 1-\\frac{1-T(1-u)}{1+T(\\kappa-1)(1-u)}\\\\\n",
    "&= 1-\\frac{1-T(1-u)}{1+4T(1-u)}\n",
    "\\end{align*}\n",
    "$$"
   ]
  },
  {
   "cell_type": "code",
   "execution_count": null,
   "metadata": {},
   "outputs": [],
   "source": [
    "def r_inf(T):\n",
    "    \"\"\" R_inf with kappa=5. The function is defined for 0<=T<=1 only. However, T=0 leads to a division by zero, so R=np.nan.\n",
    "    \"\"\"\n",
    "\n",
    "    if np.any(T < 0) or np.any(T > 1):\n",
    "        raise ValueError(\"T must be in [0,1]\")\n",
    "\n",
    "    u = np.ones_like(T)\n",
    "    \n",
    "    condition = T > 1/8\n",
    "\n",
    "    u[condition] = (1+2*T[condition]-2*np.sqrt(T[condition])*np.sqrt(T[condition]+1))/(4*T[condition])\n",
    "\n",
    "    Rinf = 1 - (1-T*(1-u))/(1+4*T*(1-u))\n",
    "\n",
    "    return Rinf\n",
    "\n",
    "n_samples = 10000 # population size\n",
    "np.random.seed(0) # random seed for reproducibility\n",
    "T = np.linspace(0, 1, n_samples)\n",
    "\n",
    "\n",
    "plt.plot(T, r_inf(T))\n",
    "plt.xlabel('T')\n",
    "plt.ylabel(r'$R_{\\infty}(T)$')\n",
    "plt.axvline(x=1/8, color='tab:orange', linestyle='--', label=r'$T_{crit}=\\frac{1}{8}$')\n",
    "plt.legend()\n",
    "plt.show()\n"
   ]
  },
  {
   "cell_type": "markdown",
   "metadata": {},
   "source": [
    "On voit bien que le point $T=T_{crit}$ est très important. En effet, si $T\\le T_{crit}$, la fraction de la population infectée est considérée nulle, ce qui implique que la maladie ne se propage pas: il n'y as pas d'épidémie. Au contraire, si la probabilité $T$ d'infecter ses proches est au-dessus de ce seuil, il y a une épidémie. La proportion de la population (entre 0 et 1) infectée dépend alors de la valeur de $T$. Si $T=1$, on a que chaque personne est certaine d'infecter ses $n$ proches. À ce point, toute la population sera infectée ($R_\\infty=1$). On voit toutefois que la pente de la courbe de $R_\\infty(T)$ est la plus élevée juste après $T_{crit}$. Dans cette région, la moindre augmentation de la probabilité de transmission a un grand impact sur la proportion de la population globale infectée."
   ]
  },
  {
   "cell_type": "markdown",
   "metadata": {},
   "source": [
    "### (d) Résoudre équation 3.14 numérique, méthode de relaxation et méthode Newton-Raphson"
   ]
  },
  {
   "cell_type": "code",
   "execution_count": 30,
   "metadata": {},
   "outputs": [],
   "source": [
    "def u_equation(u : float, T : float, k : float)-> float:\n",
    "    \"\"\"\n",
    "        Function to compute the value of u given u, T and k.\n",
    "    \"\"\"\n",
    "    return 1 / (1 + T * (k - 1) * (1 - u))**2\n",
    "\n",
    "def u_equation_egalized_to_0(u : float, T : float, k : float)-> float:\n",
    "    \"\"\"\n",
    "        Function to compute the value of u given u, T and k.\n",
    "    \"\"\"\n",
    "    return 1 / (1 + T * (k - 1) * (1 - u))**2 - u\n",
    "\n",
    "def u_equation_egalized_to_0_derivative(u : float, T : float, k : float)-> float:\n",
    "    \"\"\"\n",
    "        Function to compute the value of u given u, T and k.\n",
    "    \"\"\"\n",
    "    return (2 * T * (k - 1)) / (1 + T * (k - 1) * (1 - u))**3  - 1"
   ]
  },
  {
   "cell_type": "code",
   "execution_count": null,
   "metadata": {},
   "outputs": [
    {
     "name": "stdout",
     "output_type": "stream",
     "text": [
      "u(0.0) = 1.0000 (converged in 2 iterations)\n",
      "u(0.05263157894736842) = 1.0000 (converged in 19 iterations)\n",
      "u(0.10526315789473684) = 1.0000 (converged in 75 iterations)\n",
      "u(0.15789473684210525) = 0.7293 (converged in 55 iterations)\n",
      "u(0.21052631578947367) = 0.4885 (converged in 27 iterations)\n",
      "u(0.2631578947368421) = 0.3546 (converged in 19 iterations)\n",
      "u(0.3157894736842105) = 0.2710 (converged in 15 iterations)\n",
      "u(0.3684210526315789) = 0.2149 (converged in 13 iterations)\n",
      "u(0.42105263157894735) = 0.1752 (converged in 11 iterations)\n",
      "u(0.47368421052631576) = 0.1459 (converged in 10 iterations)\n",
      "u(0.5263157894736842) = 0.1235 (converged in 10 iterations)\n",
      "u(0.5789473684210527) = 0.1061 (converged in 9 iterations)\n",
      "u(0.631578947368421) = 0.0922 (converged in 8 iterations)\n",
      "u(0.6842105263157894) = 0.0809 (converged in 8 iterations)\n",
      "u(0.7368421052631579) = 0.0716 (converged in 8 iterations)\n",
      "u(0.7894736842105263) = 0.0639 (converged in 7 iterations)\n",
      "u(0.8421052631578947) = 0.0574 (converged in 7 iterations)\n",
      "u(0.894736842105263) = 0.0518 (converged in 7 iterations)\n",
      "u(0.9473684210526315) = 0.0470 (converged in 7 iterations)\n",
      "u(1.0) = 0.0429 (converged in 6 iterations)\n"
     ]
    }
   ],
   "source": [
    "#insérer code pour TP3.3.d, méthode de relaxation\n",
    "\n",
    "def relaxation(callable : Callable[[float, float, float], float], \n",
    "                T : float, \n",
    "                u0 : float, \n",
    "                k : float, \n",
    "                epsilon : float = 1e-7, \n",
    "                max_iter : int = 10000) -> tuple:\n",
    "    \"\"\"\n",
    "        Function to compute the value of u given T and k using the relaxation method.\n",
    "        The function returns the value of u and the number of iterations.\n",
    "    \"\"\"\n",
    "    u = np.zeros(max_iter)\n",
    "    u[0] = u0\n",
    "    for i in range(max_iter):\n",
    "        u_new = u_equation(u[i], T, k)\n",
    "        if np.linalg.norm(u_new - u[i]) < epsilon:\n",
    "            break\n",
    "        u[i+1] = u_new\n",
    "    return u[i], i+1\n",
    "\n",
    "# Test the relaxation method\n",
    "T = np.linspace(0, 1, 20)\n",
    "k = 5 \n",
    "u0 = 0\n",
    "for t in T:\n",
    "    u, n_iter = relaxation(u_equation, t, u0, k)\n",
    "    print(f\"u({t}) = {u:.4f} (converged in {n_iter} iterations)\")\n"
   ]
  },
  {
   "cell_type": "code",
   "execution_count": null,
   "metadata": {},
   "outputs": [
    {
     "ename": "NameError",
     "evalue": "name 'x0' is not defined",
     "output_type": "error",
     "traceback": [
      "\u001b[0;31m---------------------------------------------------------------------------\u001b[0m",
      "\u001b[0;31mNameError\u001b[0m                                 Traceback (most recent call last)",
      "Cell \u001b[0;32mIn[31], line 29\u001b[0m\n\u001b[1;32m     27\u001b[0m u0 \u001b[38;5;241m=\u001b[39m \u001b[38;5;241m0\u001b[39m\n\u001b[1;32m     28\u001b[0m \u001b[38;5;28;01mfor\u001b[39;00m t \u001b[38;5;129;01min\u001b[39;00m T:\n\u001b[0;32m---> 29\u001b[0m     u, n_iter \u001b[38;5;241m=\u001b[39m \u001b[43mnewton_raphson\u001b[49m\u001b[43m(\u001b[49m\u001b[43mu_equation_egalized_to_0\u001b[49m\u001b[43m,\u001b[49m\u001b[43m \u001b[49m\u001b[43mu_equation_egalized_to_0_derivative\u001b[49m\u001b[43m,\u001b[49m\u001b[43m \u001b[49m\u001b[43mt\u001b[49m\u001b[43m,\u001b[49m\u001b[43m \u001b[49m\u001b[43mu0\u001b[49m\u001b[43m,\u001b[49m\u001b[43m \u001b[49m\u001b[43mk\u001b[49m\u001b[43m)\u001b[49m\n\u001b[1;32m     30\u001b[0m     \u001b[38;5;28mprint\u001b[39m(\u001b[38;5;124mf\u001b[39m\u001b[38;5;124m\"\u001b[39m\u001b[38;5;124mu(\u001b[39m\u001b[38;5;132;01m{\u001b[39;00mt\u001b[38;5;132;01m}\u001b[39;00m\u001b[38;5;124m) = \u001b[39m\u001b[38;5;132;01m{\u001b[39;00mu\u001b[38;5;132;01m:\u001b[39;00m\u001b[38;5;124m.4f\u001b[39m\u001b[38;5;132;01m}\u001b[39;00m\u001b[38;5;124m (converged in \u001b[39m\u001b[38;5;132;01m{\u001b[39;00mn_iter\u001b[38;5;132;01m}\u001b[39;00m\u001b[38;5;124m iterations)\u001b[39m\u001b[38;5;124m\"\u001b[39m)\n",
      "Cell \u001b[0;32mIn[31], line 13\u001b[0m, in \u001b[0;36mnewton_raphson\u001b[0;34m(f, df, T, u0, k, epsilon, max_iter)\u001b[0m\n\u001b[1;32m      2\u001b[0m \u001b[38;5;28;01mdef\u001b[39;00m\u001b[38;5;250m \u001b[39m\u001b[38;5;21mnewton_raphson\u001b[39m(f : Callable[[\u001b[38;5;28mfloat\u001b[39m, \u001b[38;5;28mfloat\u001b[39m, \u001b[38;5;28mfloat\u001b[39m], \u001b[38;5;28mfloat\u001b[39m],\n\u001b[1;32m      3\u001b[0m                     df : Callable[[\u001b[38;5;28mfloat\u001b[39m, \u001b[38;5;28mfloat\u001b[39m, \u001b[38;5;28mfloat\u001b[39m], \u001b[38;5;28mfloat\u001b[39m],\n\u001b[1;32m      4\u001b[0m                     T : \u001b[38;5;28mfloat\u001b[39m, \n\u001b[0;32m   (...)\u001b[0m\n\u001b[1;32m      7\u001b[0m                     epsilon : \u001b[38;5;28mfloat\u001b[39m \u001b[38;5;241m=\u001b[39m \u001b[38;5;241m1e-7\u001b[39m, \n\u001b[1;32m      8\u001b[0m                     max_iter : \u001b[38;5;28mint\u001b[39m \u001b[38;5;241m=\u001b[39m \u001b[38;5;241m10000\u001b[39m) \u001b[38;5;241m-\u001b[39m\u001b[38;5;241m>\u001b[39m \u001b[38;5;28mtuple\u001b[39m:\n\u001b[1;32m      9\u001b[0m \u001b[38;5;250m    \u001b[39m\u001b[38;5;124;03m\"\"\"\u001b[39;00m\n\u001b[1;32m     10\u001b[0m \u001b[38;5;124;03m        Function to compute the value of u given T and k using the Newton-Raphson method.\u001b[39;00m\n\u001b[1;32m     11\u001b[0m \u001b[38;5;124;03m        The function returns the value of u and the number of iterations.\u001b[39;00m\n\u001b[1;32m     12\u001b[0m \u001b[38;5;124;03m    \"\"\"\u001b[39;00m\n\u001b[0;32m---> 13\u001b[0m     x \u001b[38;5;241m=\u001b[39m \u001b[43mx0\u001b[49m\n\u001b[1;32m     14\u001b[0m     \u001b[38;5;28;01mfor\u001b[39;00m _ \u001b[38;5;129;01min\u001b[39;00m \u001b[38;5;28mrange\u001b[39m(max_iter):\n\u001b[1;32m     15\u001b[0m         fx \u001b[38;5;241m=\u001b[39m f(x)\n",
      "\u001b[0;31mNameError\u001b[0m: name 'x0' is not defined"
     ]
    }
   ],
   "source": [
    "#insérer code pour TP3.3.d, méthode de Newton-Raphson\n",
    "def newton_raphson(f : Callable[[float, float, float], float],\n",
    "                    df : Callable[[float, float, float], float],\n",
    "                    T : float, \n",
    "                    u0 : float, \n",
    "                    k : float, \n",
    "                    epsilon : float = 1e-7, \n",
    "                    max_iter : int = 10000) -> tuple:\n",
    "    \"\"\"\n",
    "        Function to compute the value of u given T and k using the Newton-Raphson method.\n",
    "        The function returns the value of u and the number of iterations.\n",
    "    \"\"\"\n",
    "    u = np.zeros(max_iter)\n",
    "    u[0] = u0\n",
    "    for i in range(max_iter):\n",
    "        fu = f(u[i], T, k)\n",
    "        dfu = df(u[i], T, k)\n",
    "        if dfu == 0:\n",
    "            raise ValueError(\"Dérivée nulle, impossible de continuer.\")\n",
    "        u[i+1] = u[i] - fu / dfu\n",
    "        if abs(fu) < tol:\n",
    "            return u[i], i+1\n",
    "    raise ValueError(\"Nombre maximal d'itérations atteint sans convergence.\")\n",
    "\n",
    "# Test the Newton-Raphson method\n",
    "T = np.linspace(0, 1, 20)\n",
    "k = 5\n",
    "u0 = 0\n",
    "for t in T:\n",
    "    u, n_iter = newton_raphson(u_equation_egalized_to_0, u_equation_egalized_to_0_derivative, t, u0, k)\n",
    "    print(f\"u({t}) = {u:.4f} (converged in {n_iter} iterations)\")\n"
   ]
  },
  {
   "cell_type": "markdown",
   "metadata": {},
   "source": [
    "Insérer explications textuelles ici"
   ]
  },
  {
   "cell_type": "markdown",
   "metadata": {},
   "source": [
    "# Références"
   ]
  },
  {
   "cell_type": "markdown",
   "metadata": {},
   "source": [
    "[1] TP3, Antoine Allard, PHY-3500 Physique Numérique"
   ]
  }
 ],
 "metadata": {
  "kernelspec": {
   "display_name": "Python 3",
   "language": "python",
   "name": "python3"
  },
  "language_info": {
   "codemirror_mode": {
    "name": "ipython",
    "version": 3
   },
   "file_extension": ".py",
   "mimetype": "text/x-python",
   "name": "python",
   "nbconvert_exporter": "python",
   "pygments_lexer": "ipython3",
   "version": "3.12.3"
  }
 },
 "nbformat": 4,
 "nbformat_minor": 2
}
