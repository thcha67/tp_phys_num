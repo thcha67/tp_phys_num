{
 "cells": [
  {
   "cell_type": "markdown",
   "metadata": {},
   "source": [
    "# TP3 : Décomposition QR, bataille navale et épidemiologie\n",
    "### Physique Numérique (PHY-3500)\n",
    "### Par: Simon Gauthier, Laurent Émond, Thomas Charland\n",
    "### Présenté à: Xavier Roy-Pomerleau et Antoine Allard\n",
    "### Remis le: 14 avril 2025"
   ]
  },
  {
   "cell_type": "code",
   "execution_count": 1,
   "metadata": {},
   "outputs": [],
   "source": [
    "import numpy as np"
   ]
  },
  {
   "cell_type": "markdown",
   "metadata": {},
   "source": [
    "## TP3.1 : Décomposition QR par méthode de Householder"
   ]
  },
  {
   "cell_type": "markdown",
   "metadata": {},
   "source": [
    "### Mise en contexte"
   ]
  },
  {
   "cell_type": "markdown",
   "metadata": {},
   "source": [
    "Il existe plusieurs méthode afin de résoudre des systèmes d'équations linéaires, dont plusieurs atteignent cette fin en utilisant la réduction en matrice triangulaire du système d'équation. La méthode de *Householder* est l'une d'entre elle, et elle est souvent utilisée en physique numérique puisqu'elle est plus stable numériquement que d'autres méthodes (*Gram-Schmidt*, par exemple) [1]. Le fonctionnement intrinsèque de cette méthode est méconnu, et est exploré au TP3.1 ."
   ]
  },
  {
   "cell_type": "markdown",
   "metadata": {},
   "source": [
    "### (a) Démontrer que $Q_i$ sont orthogonales"
   ]
  },
  {
   "cell_type": "markdown",
   "metadata": {},
   "source": [
    "Prouvons d'abord que les matrices $\\mathbf{H}_{m,i}$ sont orthogonales. Ces dernières sont définies telles que:\n",
    "\n",
    "$$\n",
    "\\mathbf{H}_{m,i} = \\mathbf{I}_{m-i}-2\\frac{\\mathbf{v}_{m,i}\\mathbf{v}_{m,i}^T}{\\mathbf{v}_{m,i}^T\\mathbf{v}_{m,i}}\n",
    "$$\n",
    "où $\\mathbf{v}_{m,i}$ est un vecteur unitaire. On sait donc que $\\mathbf{v}_{m,i}^T\\mathbf{v}_{m,i}=||\\mathbf{v}_{m,i}||^2=1$.\n",
    "Pour valider l'orthogonalité, il suffit de vérifier si $\\mathbf{H}_{m,i}\\mathbf{H}_{m,i}^T=\\mathbf{I}_{m-i}$. \n",
    "On a donc:\n",
    "$$\n",
    "\\begin{align*}\n",
    "    \\mathbf{H}_{m,i}\\mathbf{H}_{m,i}^T &= (\\mathbf{I}_{m-i}-2\\mathbf{v}_{m,i}\\mathbf{v}_{m,i}^T)(\\mathbf{I}_{m-i}-2\\mathbf{v}_{m,i}\\mathbf{v}_{m,i}^T)^T\\\\\n",
    "    &=(\\mathbf{I}_{m-i}-2\\mathbf{v}_{m,i}\\mathbf{v}_{m,i}^T)(\\mathbf{I}^T_{m-i}-2(\\mathbf{v}_{m,i}\\mathbf{v}_{m,i}^T)^T)\\\\\n",
    "    &= (\\mathbf{I}_{m-i}-2\\mathbf{v}_{m,i}\\mathbf{v}_{m,i}^T)(\\mathbf{I}_{m-i}-2((\\mathbf{v}^T_{m,i})^T(\\mathbf{v}_{m,i})^T)\\\\\n",
    "    &= (\\mathbf{I}_{m-i}-2\\mathbf{v}_{m,i}\\mathbf{v}_{m,i}^T)^2\\\\\n",
    "    &=\\mathbf{I}^2_{m-i}-4\\mathbf{I}_{m-i}\\mathbf{v}_{m,i}\\mathbf{v}^T_{m,i}+4\\mathbf{v}_{m,i}\\mathbf{v}^T_{m,i}\\mathbf{v}_{m,i}\\mathbf{v}^T_{m,i}\\\\\n",
    "    &=\\mathbf{I}^2_{m-i}-4\\mathbf{I}_{m-i}\\mathbf{v}_{m,i}\\mathbf{v}^T_{m,i}+4\\mathbf{v}_{m,i}(1)\\mathbf{v}^T_{m,i}\\\\\n",
    "    &= \\mathbf{I}^2_{m-i}\\\\\n",
    "    &=\\mathbf{I}_{m-i}\\\\\n",
    "    &CQFD\n",
    "\\end{align*}\n",
    "$$\n",
    "\n",
    "On a donc que la matrice est orthogonale. Sachant cela, vérifions que $\\mathbf{Q}_i$ est aussi orthogonale. On veut donc vérifier si:\n",
    "$$\n",
    "\\mathbf{Q}_i\\mathbf{Q}^T_i=\\mathbf{I}_i\n",
    "$$\n",
    "Pour cela, on trouve que:\n",
    "$$\n",
    "\\mathbf{Q}^T_i=\n",
    "\\begin{pmatrix}\n",
    "\\mathbf{I}_i & \\mathbf{0}\\\\\n",
    "\\mathbf{0} & \\mathbf{H}_{m,i}\\\\\n",
    "\\end{pmatrix}^T=\n",
    "\\begin{pmatrix}\n",
    "\\mathbf{I}^T_i & \\mathbf{0}\\\\\n",
    "\\mathbf{0} & \\mathbf{H}^T_{m,i}\\\\\n",
    "\\end{pmatrix} =\n",
    "\\begin{pmatrix}\n",
    "\\mathbf{I}_i & \\mathbf{0}\\\\\n",
    "\\mathbf{0} & \\mathbf{H}_{m,i}\\\\\n",
    "\\end{pmatrix}=\\mathbf{Q}_i\n",
    "$$\n",
    "On vérifie donc que:\n",
    "$$\n",
    "\\mathbf{I}_m = \\begin{pmatrix}\n",
    "\\mathbf{I}_i & \\mathbf{0}\\\\\n",
    "\\mathbf{0} & \\mathbf{H}_{m,i}\\\\\n",
    "\\end{pmatrix}^2=\n",
    "\\begin{pmatrix}\n",
    "\\mathbf{I}^2_i & \\mathbf{0}\\\\\n",
    "\\mathbf{0} & \\mathbf{H}^2_{m,i}\\\\\n",
    "\\end{pmatrix}=\\begin{pmatrix}\n",
    "\\mathbf{I}_i & \\mathbf{0}\\\\\n",
    "\\mathbf{0} & \\mathbf{I}_{m-i}\\\\\n",
    "\\end{pmatrix}=\\mathbf{I}_{m}\n",
    "$$\n",
    "La matrice $\\mathbf{Q}_i$ est donc orthogonale.\n"
   ]
  },
  {
   "cell_type": "markdown",
   "metadata": {},
   "source": [
    "### (b) Démontrer équation 3.5 et que matrice $Q$ est orthogonale"
   ]
  },
  {
   "cell_type": "markdown",
   "metadata": {},
   "source": [
    "Insérer calculs pour TP3.1.b"
   ]
  },
  {
   "cell_type": "markdown",
   "metadata": {},
   "source": [
    "### (c) Implémenter householder_qr"
   ]
  },
  {
   "cell_type": "code",
   "execution_count": 2,
   "metadata": {},
   "outputs": [],
   "source": [
    "#Code pour TP3.1.c\n",
    "\n",
    "def householder_qr(A_matrix):\n",
    "    m, n = A_matrix.shape\n",
    "    Q_matrices = []\n",
    "    Q_matrix = np.identity(m)\n",
    "    R_matrix = A_matrix\n",
    "\n",
    "    #itère sur le nombre de colonnes\n",
    "    for i in range(n):\n",
    "        if i == 0:\n",
    "            x_vector = np.array([A_matrix[:, i][-(m-i):]]).T\n",
    "            e1_vector = np.array([[1] + [0]*(m-i-1)]).T\n",
    "            \n",
    "            v_mi_vector = np.sign(x_vector[0]) * np.linalg.norm(x_vector) * e1_vector + x_vector\n",
    "            H_mi_matrix = np.identity(m-i) - 2 * (v_mi_vector @ v_mi_vector.T)/(v_mi_vector.T @ v_mi_vector)\n",
    "            Q_i = H_mi_matrix\n",
    "\n",
    "            Q_matrices.append(Q_i)\n",
    "            Q_matrix = Q_i @ Q_matrix\n",
    "            R_matrix  = Q_i @ A_matrix\n",
    "        else:\n",
    "            x_vector = np.array([R_matrix[:, i][-(m-i):]]).T\n",
    "            e1_vector = np.array([[1] + [0]*(m-i-1)]).T\n",
    "            \n",
    "            v_mi_vector = np.sign(x_vector[0]) * np.linalg.norm(x_vector) * e1_vector + x_vector\n",
    "            H_mi_matrix = np.identity(m-i) - 2 * (v_mi_vector @ v_mi_vector.T)/(v_mi_vector.T @ v_mi_vector)\n",
    "\n",
    "            Q_i_top_half = np.concatenate([np.identity(i), np.zeros((i, m-i))], axis=1)\n",
    "            Q_i_bottom_half = np.concatenate([np.zeros((m-i, i)), H_mi_matrix], axis=1)\n",
    "            Q_i = np.concatenate([Q_i_top_half, Q_i_bottom_half])\n",
    "            \n",
    "            Q_matrices.append(Q_i)\n",
    "            Q_matrix = Q_i @ Q_matrix\n",
    "            R_matrix = Q_i @ R_matrix\n",
    "    \n",
    "    return Q_matrices, Q_matrix, R_matrix"
   ]
  },
  {
   "cell_type": "markdown",
   "metadata": {},
   "source": [
    "Insérer explications textuelles ici"
   ]
  },
  {
   "cell_type": "markdown",
   "metadata": {},
   "source": [
    "### (d) Comparer avec numpy.linalg.qr"
   ]
  },
  {
   "cell_type": "code",
   "execution_count": 3,
   "metadata": {},
   "outputs": [
    {
     "name": "stdout",
     "output_type": "stream",
     "text": [
      "Voici la matrice test utilisée en entrée: \n",
      " [[0.39805139 0.4602148  0.77802764]\n",
      " [0.50348954 0.31542224 0.18787408]\n",
      " [0.55434532 0.38180744 0.36835822]\n",
      " [0.68027513 0.39975617 0.29883721]] \n",
      "\n",
      "Voici la matrice obtenue avec notre méthode householder_qr: \n",
      " [[-1.08720725e+00 -7.59375257e-01 -7.46662416e-01]\n",
      " [ 7.31934693e-17  2.00549215e-01  5.50620262e-01]\n",
      " [ 1.48540853e-17 -2.85250714e-17 -7.01975668e-02]\n",
      " [-1.83319040e-17 -1.70883346e-18 -1.14236911e-17]] \n",
      "\n",
      "Voici la matrice obtenue avec la méthode numpy.linalg.qr \n",
      " [[-1.08720725 -0.75937526 -0.74666242]\n",
      " [ 0.          0.20054922  0.55062026]\n",
      " [ 0.          0.         -0.07019757]] \n",
      "\n"
     ]
    }
   ],
   "source": [
    "#Code pour TP3.1.d\n",
    "\n",
    "test_Matrix = np.array([[0.39805139, 0.4602148,  0.77802764], [0.50348954, 0.31542224, 0.18787408], [0.55434532, 0.38180744, 0.36835822], [0.68027513, 0.39975617, 0.29883721]])\n",
    "print(\"Voici la matrice test utilisée en entrée: \\n\", test_Matrix, \"\\n\")\n",
    "\n",
    "Q_matrices_homebrew, Q_matrix_hombrew, R_matrix_homebrew = householder_qr(test_Matrix)\n",
    "\n",
    "Q_matrix_numpy, R_matrix_numpy = np.linalg.qr(test_Matrix)\n",
    "\n",
    "print(\"Voici la matrice obtenue avec notre méthode householder_qr: \\n\", R_matrix_homebrew, \"\\n\")\n",
    "print(\"Voici la matrice obtenue avec la méthode numpy.linalg.qr \\n\", R_matrix_numpy, \"\\n\")\n",
    "\n"
   ]
  },
  {
   "cell_type": "markdown",
   "metadata": {},
   "source": [
    "Plusieurs différences sont identifiées entre le résultat des deux méthodes:\n",
    "- Les dimensions de la matrice obtenue avec householder_qr est 4x3, alors que celle avec numpy est de 3x3. La rangée supplémentaire de notre matrice est sensiblement remplie de zéros, ce qui fait en sorte qu'elle n'affecte en rien le résultat obtenu. Puisque l'énoncé du TP disait que la matrice R devait être de la même forme $m$ x $n$ que la matrice A, nous décidons de garder la forme de la matrice R ainsi.\n",
    "- Les valeurs obtenues sont sensiblement les mêmes. Avec la méthode numpy, nous obtenons de \"vrais\" zéros, alors que notre méthode householder_qr nous retourne des chiffres très proches de zéros (de l'ordre de e-17 ou plus petit), mais qui ne sont pas vraiment zéro. Il serait possible d'arrondir nos chiffres à la 8e décimale comme numpy, ce qui nous permettrait d'avoir des vrais zéros et de se débarasser de la notation scientifique. Toutefois, nous ne croyons pas que cette différence causera problème plus tard lors de la résolution de systèmes d'équations linéaires."
   ]
  },
  {
   "cell_type": "markdown",
   "metadata": {},
   "source": [
    "### (e) Illustrer la triangularisation de la matrice du numéro précédent"
   ]
  },
  {
   "cell_type": "code",
   "execution_count": 4,
   "metadata": {},
   "outputs": [
    {
     "name": "stdout",
     "output_type": "stream",
     "text": [
      "Voici la matrice test utilisée en entrée: \n",
      " [[0.39805139 0.4602148  0.77802764]\n",
      " [0.50348954 0.31542224 0.18787408]\n",
      " [0.55434532 0.38180744 0.36835822]\n",
      " [0.68027513 0.39975617 0.29883721]] \n",
      "\n",
      "MATRICE Q_1 \n",
      "\n",
      "La matrice Q_1 est orthogonale:  True\n",
      "En multipliant avec la matrice Q_1, nous obtenons la matrice suivante: \n",
      " [[-1.08720725e+00 -7.59375257e-01 -7.46662416e-01]\n",
      " [-2.64334515e-17 -9.80079995e-02 -3.28982360e-01]\n",
      " [-9.88550250e-18 -7.33819933e-02 -2.00704146e-01]\n",
      " [-7.15369553e-17 -1.58837977e-01 -3.99498215e-01]]\n",
      "La matrice obtenue après multiplication est triangulaire supérieure:  False \n",
      "\n",
      "MATRICE Q_2 \n",
      "\n",
      "La matrice Q_2 est orthogonale:  True\n",
      "En multipliant avec la matrice Q_2, nous obtenons la matrice suivante: \n",
      " [[-1.08720725e+00 -7.59375257e-01 -7.46662416e-01]\n",
      " [ 7.31934693e-17  2.00549215e-01  5.50620262e-01]\n",
      " [ 1.46016701e-17  7.96203845e-18  1.54922502e-02]\n",
      " [-1.85335854e-17  2.74445943e-17  6.84666968e-02]]\n",
      "La matrice obtenue après multiplication est triangulaire supérieure:  False \n",
      "\n",
      "MATRICE Q_3 \n",
      "\n",
      "La matrice Q_3 est orthogonale:  True\n",
      "En multipliant avec la matrice Q_3, nous obtenons la matrice suivante: \n",
      " [[-1.08720725e+00 -7.59375257e-01 -7.46662416e-01]\n",
      " [ 7.31934693e-17  2.00549215e-01  5.50620262e-01]\n",
      " [ 1.48540853e-17 -2.85250714e-17 -7.01975668e-02]\n",
      " [-1.83319040e-17 -1.70883346e-18 -1.14236911e-17]]\n",
      "La matrice obtenue après multiplication est triangulaire supérieure:  True \n",
      "\n"
     ]
    }
   ],
   "source": [
    "#Code pour TP3.1.e\n",
    "\n",
    "print(\"Voici la matrice test utilisée en entrée: \\n\", test_Matrix, \"\\n\")\n",
    "\n",
    "new_Matrix = test_Matrix\n",
    "for i in range(len(Q_matrices_homebrew)):\n",
    "    print(f\"MATRICE Q_{i+1}\", \"\\n\")\n",
    "    #Si la matrice est orthogonale, son produit avec sa transposée donne la mtrice identité\n",
    "    product = Q_matrices_homebrew[i] @ Q_matrices_homebrew[i].T\n",
    "    is_orthognal = np.allclose(product, np.identity(Q_matrices_homebrew[i].shape[0]))\n",
    "    print(f\"La matrice Q_{i+1} est orthogonale: \", is_orthognal)\n",
    "    new_Matrix = Q_matrices_homebrew[i] @ new_Matrix\n",
    "    print(f\"En multipliant avec la matrice Q_{i+1}, nous obtenons la matrice suivante: \\n\", new_Matrix)\n",
    "\n",
    "    is_triangular_superior = np.allclose(new_Matrix, np.triu(new_Matrix))\n",
    "    print(\"La matrice obtenue après multiplication est triangulaire supérieure: \", is_triangular_superior, \"\\n\")"
   ]
  },
  {
   "cell_type": "markdown",
   "metadata": {},
   "source": [
    "On voit qu'à chaque multiplication d'une matrice Q, nous traitons une colonne de plus en transformant les élements en bas de la diagonale à zéro, jusqu'à triangulariser la totalité des colonnes de notre matrice et ainsi obtenir la matrice R. Chacune des matrices Q est orthogonale, et la matrice R est bel et bien triangulaire supérieure. "
   ]
  },
  {
   "cell_type": "markdown",
   "metadata": {},
   "source": [
    "# TP3.2 : bataille navale"
   ]
  },
  {
   "cell_type": "markdown",
   "metadata": {},
   "source": [
    "### Mise en contexte"
   ]
  },
  {
   "cell_type": "markdown",
   "metadata": {},
   "source": [
    "La décomposition QR présentée au TP3.1 permet de résoudre des systèmes d'équations linéaires de manière numérique. Au TP3.2, nous utiliserons cette méthode afin d'aider notre riche amie à gagner son jeu de bataille navale grandeur nature. Espérons qu'après l'aide que nous lui apportons, elle nous nommera sur son testament! "
   ]
  },
  {
   "cell_type": "markdown",
   "metadata": {},
   "source": [
    "### (a) modifier le code de la décomposition QR"
   ]
  },
  {
   "cell_type": "code",
   "execution_count": 5,
   "metadata": {},
   "outputs": [],
   "source": [
    "#insérer code pour question TP3.2.a"
   ]
  },
  {
   "cell_type": "markdown",
   "metadata": {},
   "source": [
    "Insérer explications textuelles ici"
   ]
  },
  {
   "cell_type": "markdown",
   "metadata": {},
   "source": [
    "### (b) résoudre approximativement l'équation 3.9"
   ]
  },
  {
   "cell_type": "code",
   "execution_count": 6,
   "metadata": {},
   "outputs": [],
   "source": [
    "#insérer code pour question TP3.2.b"
   ]
  },
  {
   "cell_type": "markdown",
   "metadata": {},
   "source": [
    "Insérer explications textuelles ici"
   ]
  },
  {
   "cell_type": "markdown",
   "metadata": {},
   "source": [
    "### (c) Tracez les données et solutions estimées"
   ]
  },
  {
   "cell_type": "code",
   "execution_count": 7,
   "metadata": {},
   "outputs": [],
   "source": [
    "#insérer code pour question TP3.2.c"
   ]
  },
  {
   "cell_type": "markdown",
   "metadata": {},
   "source": [
    "Insérer explications textuelles ici"
   ]
  },
  {
   "cell_type": "markdown",
   "metadata": {},
   "source": [
    "### (d) Comparaison de méthodes de résolution"
   ]
  },
  {
   "cell_type": "code",
   "execution_count": 8,
   "metadata": {},
   "outputs": [],
   "source": [
    "#insérer code ici"
   ]
  },
  {
   "cell_type": "markdown",
   "metadata": {},
   "source": [
    "Insérer explications textuelles ici"
   ]
  },
  {
   "cell_type": "markdown",
   "metadata": {},
   "source": [
    "# TP3.3 : Épidemiologie SIR sur réseau"
   ]
  },
  {
   "cell_type": "markdown",
   "metadata": {},
   "source": [
    "### Mise en contexte"
   ]
  },
  {
   "cell_type": "markdown",
   "metadata": {},
   "source": [
    "Le modèle épidemiologique SIR simule la propagation d'un agent pathogène contagieux au sein d’une population [1]. Ce modèle est basé sur deux composantes majeures: nombre de contacts de chaque individu ($P(n)$) et la contagiosité de la malade ($R_{\\infty}). Ce TP3.3 se penche sur la résolution du modèle SIR, ce qui nous permettra d'éviter de tomber malade la prochaine fois qu'il y a une pandémie... #not"
   ]
  },
  {
   "cell_type": "markdown",
   "metadata": {},
   "source": [
    "### (a) Solutions analytiques"
   ]
  },
  {
   "cell_type": "markdown",
   "metadata": {},
   "source": [
    "Ça va être long! On va sauter certaines étapes dans cette explication sinon on y sera toute la nuit. Mais allons-y!\n",
    "\n",
    "Avec k=5 nous simplifions u pour obtenir:\n",
    "\\begin{align*}\n",
    "    u = \\frac{1}{(1+4T(1-u))^2} &= \\frac{1}{(1+4T-4Tu)^2}\n",
    "\\end{align*}\n",
    "\n",
    "On fait le changement de variable x = 1+4T-4Tu:\n",
    "\\begin{align*}\n",
    "    u = \\frac{1}{x^2} &\\Rightarrow x = 1 + 4T - \\frac{4T}{x^2}\n",
    "\\end{align*}\n",
    "\n",
    "En multipliant par x^2, cela nous permet d'avoir une expression cubique plus simple pour x:\n",
    "\\begin{align*}\n",
    "    x^3 - (1 + 4t)x^2 - 4T &= 0\n",
    "\\end{align*}\n",
    "\n",
    "Nous utilisons la méthode de Cardan afin de résoudre pour x. En premier, nous faisons un autre changement de variable, soit $x = y + \\frac{1+4T}{3}$, ce qui nous permet d'obtenir une formule cubique sans terme quadratique:\n",
    "\n",
    "\\begin{align*}\n",
    "    (y + \\frac{1+4T}{3})^3 - (1+4T)(y+\\frac{1+4T}{3})^2 - 4T = 0 &\\Rightarrow y^3 - \\frac{(1+4T)^2}{3}y + \\frac{2(1+4T)^2}{27} + 4T = 0\n",
    "\\end{align*}\n",
    "\n",
    "L'équation a maintenant forme $y^3 + py + q = 0$, ce qui nous permet de substituer encore une fois avec $y = u+v$ en sachant que $u^3 + v^3 = -q$ et que $uv = -\\frac{p}{3}$. On a alors un système à deux équations, deux inconnues; c'est la beauté de la méthode de Cardan:\n",
    "\n",
    "\\begin{align*}\n",
    "    u^3 + v^3 &= - \\frac{2(1+4T)^2}{27} - 4T\\\\\n",
    "    uv &= \\frac{(1+4T)^2}{9}\\\\\n",
    "\\end{align*}\n",
    "\n",
    "Si l'on résout ce système, on obtient:\n",
    "\n",
    "\\begin{align*}\n",
    "    u &= \\sqrt[3]{-\\frac{(\\frac{2(1+4T)^3}{27} + 4T)}{2} + \\sqrt{\\left(\\frac{(\\frac{2(1+4T)^3}{27} + 4T)}{2}\\right)^2 + \\left(\\frac{-\\frac{(1+4T)^2}{3}}{3}\\right)^3}}\\\\\n",
    "    v &= \\sqrt[3]{-\\frac{(\\frac{2(1+4T)^3}{27} + 4T)}{2} - \\sqrt{\\left(\\frac{(\\frac{2(1+4T)^3}{27} + 4T)}{2}\\right)^2 + \\left(\\frac{-\\frac{(1+4T)^2}{3}}{3}\\right)^3}}\\\\\n",
    "\\end{align*}\n",
    "\n",
    "Nous retrouvons y avec $y = u + v$, puis nous retrouvons x avec $x = y + (1+4T)/3$."
   ]
  },
  {
   "cell_type": "markdown",
   "metadata": {},
   "source": [
    "### (b) Démontrer la solution qui correspond à $u$"
   ]
  },
  {
   "cell_type": "markdown",
   "metadata": {},
   "source": [
    "Démonstration ici :)"
   ]
  },
  {
   "cell_type": "markdown",
   "metadata": {},
   "source": [
    "### (c) Tracez $R_{\\infty}$ en fonction de $T$"
   ]
  },
  {
   "cell_type": "code",
   "execution_count": 9,
   "metadata": {},
   "outputs": [],
   "source": [
    "#insérer code pour TP3.3.c ici"
   ]
  },
  {
   "cell_type": "markdown",
   "metadata": {},
   "source": [
    "Insérer explications textuelles ici"
   ]
  },
  {
   "cell_type": "markdown",
   "metadata": {},
   "source": [
    "### (d) Résoudre équation 3.14 numérique, méthode de relaxation et méthode Newton-Raphson"
   ]
  },
  {
   "cell_type": "code",
   "execution_count": 10,
   "metadata": {},
   "outputs": [],
   "source": [
    "#insérer code pour TP3.3.d, méthode de relaxation"
   ]
  },
  {
   "cell_type": "code",
   "execution_count": 11,
   "metadata": {},
   "outputs": [],
   "source": [
    "#insérer code pour TP3.3.d, méthode de Newton-Raphson"
   ]
  },
  {
   "cell_type": "markdown",
   "metadata": {},
   "source": [
    "Insérer explications textuelles ici"
   ]
  },
  {
   "cell_type": "markdown",
   "metadata": {},
   "source": [
    "# Références"
   ]
  },
  {
   "cell_type": "markdown",
   "metadata": {},
   "source": [
    "[1] TP3, Antoine Allard, PHY-3500 Physique Numérique"
   ]
  }
 ],
 "metadata": {
  "kernelspec": {
   "display_name": "Python 3",
   "language": "python",
   "name": "python3"
  },
  "language_info": {
   "codemirror_mode": {
    "name": "ipython",
    "version": 3
   },
   "file_extension": ".py",
   "mimetype": "text/x-python",
   "name": "python",
   "nbconvert_exporter": "python",
   "pygments_lexer": "ipython3",
   "version": "3.12.9"
  }
 },
 "nbformat": 4,
 "nbformat_minor": 2
}
